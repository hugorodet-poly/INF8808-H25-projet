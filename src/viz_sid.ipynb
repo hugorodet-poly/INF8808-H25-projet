{
 "cells": [
  {
   "cell_type": "markdown",
   "metadata": {},
   "source": [
    "# Mock up de Sidney"
   ]
  },
  {
   "cell_type": "markdown",
   "metadata": {},
   "source": [
    "### Waffle chart for the Province of Quebec "
   ]
  },
  {
   "cell_type": "code",
   "execution_count": null,
   "metadata": {},
   "outputs": [],
   "source": [
    "import plotly.graph_objects as go\n",
    "import numpy as np\n",
    "from preprocess import political_parties\n",
    "from visual_helper import set_customdata\n",
    "%load_ext autoreload\n",
    "%autoreload 2\n",
    "m = 5  # Augmentation du nombre de lignes\n",
    "n = 25  # Augmentation du nombre de colonnes\n",
    "z = np.ones((m, n))\n",
    "\n",
    "z[0:5, 0:4] = 2\n",
    "z[0,4] = 2\n",
    "z[4,4] = 3\n",
    "z[0:5, 5:7] = 3\n",
    "z[1:4, 4] = 4\n",
    "z[1,7] = 1\n",
    "\n",
    "\n",
    "M = max([len(s) for s in political_parties.values()])\n",
    "customdata = np.empty((m, n), dtype=f'<U{M}')  \n",
    "# TODO put this in a function\n",
    "customdata = set_customdata(z, customdata, m, n, political_parties)\n",
    "\n",
    "\n",
    "# Définition de la palette de couleurs\n",
    "colorscale = [[0, \"#1E90FF\"], #1E90FF\n",
    "              [0.33, \"#00cc96\"], #00cc96\n",
    "              [0.33, \"#b52121\"], #b52121\n",
    "              [0.66,  \"#FF8040\"], #FF8040\n",
    "              [0.66, \"#FF8040\"],\n",
    "              [1,\"#004A9A\"]] #004A9A\n",
    "\n",
    "# Ajustement des étiquettes\n",
    "\n",
    "fig = go.Figure(go.Heatmap(z=z,\n",
    "                           customdata=customdata, xgap=3, ygap=3,\n",
    "                           colorscale=colorscale, showscale=False,\n",
    "                           hovertemplate=\"%{customdata}<extra></extra>\"))\n",
    "\n",
    "fig.update_layout(width=700, height=300, yaxis_autorange='reversed')\n",
    "fig.update_layout(\n",
    "    title=\"Sièges par parti politique à l'Assemblée nationale du Québec aux élections 2022\",\n",
    "    title_x=0.5  # Centers the title\n",
    ")\n",
    "fig.update_xaxes(showticklabels=False)\n",
    "fig.update_yaxes(showticklabels=False)\n",
    "fig.show()\n"
   ]
  },
  {
   "cell_type": "markdown",
   "metadata": {},
   "source": [
    "### Waffle chart for Montreal"
   ]
  },
  {
   "cell_type": "code",
   "execution_count": null,
   "metadata": {},
   "outputs": [],
   "source": [
    "import plotly.graph_objects as go\n",
    "import numpy as np\n",
    "from preprocess import political_parties\n",
    "from visual_helper import set_customdata_montreal\n",
    "%load_ext autoreload\n",
    "%autoreload 2\n",
    "m = 3  # Augmentation du nombre de lignes\n",
    "n = 9  # Augmentation du nombre de colonnes\n",
    "z = np.ones((m, n))\n",
    "\n",
    "z[0:, 0:5] = 2\n",
    "z[0, 5] = 2\n",
    "z[1, 5] = 4\n",
    "z[2, 5] = 3\n",
    "z[0:, 6:8] = 3\n",
    "z[0, 8] = 3\n",
    "\n",
    "M = max([len(s) for s in political_parties.values()])\n",
    "customdata = np.empty((m, n), dtype=f'<U{M}')  \n",
    "\n",
    "customdata = set_customdata_montreal(z, customdata, m, n, political_parties)\n",
    "\n",
    "# Définition de la palette de couleurs\n",
    "colorscale = [[0, \"#1E90FF\"], #1E90FF\n",
    "              [0.33, \"#00cc96\"], #00cc96\n",
    "              [0.33, \"#b52121\"], #b52121\n",
    "              [0.66,  \"#FF8040\"], #FF8040\n",
    "              [0.66, \"#FF8040\"],\n",
    "              [1,\"#004A9A\"]] #004A9A\n",
    "\n",
    "# # Ajustement des étiquettes\n",
    "\n",
    "fig = go.Figure(go.Heatmap(z=z,\n",
    "                           customdata=customdata, xgap=3, ygap=3,\n",
    "                           colorscale=colorscale, showscale=False,\n",
    "                           hovertemplate=\"%{customdata}<extra></extra>\"))\n",
    "\n",
    "fig.update_layout(width=800, height=400, yaxis_autorange='reversed')\n",
    "fig.update_layout(\n",
    "    title=\"Sièges par parti politique selon les circonscriptions de Montréal aux élections 2022\",\n",
    "    title_x=0.5  # Centers the title\n",
    ")\n",
    "fig.update_xaxes(showticklabels=False)\n",
    "fig.update_yaxes(showticklabels=False)\n",
    "fig.show()\n"
   ]
  },
  {
   "cell_type": "markdown",
   "metadata": {},
   "source": [
    "### Waffle chart rest of Quebec"
   ]
  },
  {
   "cell_type": "code",
   "execution_count": null,
   "metadata": {},
   "outputs": [],
   "source": [
    "import plotly.graph_objects as go\n",
    "import numpy as np\n",
    "from preprocess import political_parties\n",
    "from visual_helper import set_customdata\n",
    "\n",
    "m = 7  # Augmentation du nombre de lignes\n",
    "n = 14  # Augmentation du nombre de colonnes\n",
    "z = np.ones((m, n))\n",
    "\n",
    "z[0:1, 0:5] = 2\n",
    "z[0:1,5:8] = 3\n",
    "z[0:1, 8:10] = 4\n",
    "\n",
    "M = max([len(s) for s in political_parties.values()])\n",
    "customdata = np.empty((m, n), dtype=f'<U{M}')  \n",
    "\n",
    "for i in range(m):\n",
    "    for j in range(n):           \n",
    "        customdata[i, j] = political_parties[z[i, j]] \n",
    "\n",
    "# Définition de la palette de couleurs\n",
    "colorscale = [[0, \"#1E90FF\"], #1E90FF\n",
    "              [0.33, \"#00cc96\"], #00cc96\n",
    "              [0.33, \"#b52121\"], #b52121\n",
    "              [0.66,  \"#FF8040\"], #FF8040\n",
    "              [0.66, \"#FF8040\"],\n",
    "              [1,\"#004A9A\"]] #004A9A\n",
    "\n",
    "# Ajustement des étiquettes\n",
    "fig = go.Figure(go.Heatmap(z=z,\n",
    "                           customdata=customdata, xgap=3, ygap=3,\n",
    "                           colorscale=colorscale, showscale=False,\n",
    "                           hovertemplate=\"(%{y}, %{x}): %{customdata})<extra></extra>\"))\n",
    "\n",
    "fig.update_layout(width=600, height=350, yaxis_autorange='reversed')\n",
    "fig.update_layout(\n",
    "    title=\"Sièges par parti politique à l'Assemblée nationale du Québec <br> aux élections 2022 <br> sans les circonscriptions de Montréal\",\n",
    "    title_x=0.5  # Centers the title\n",
    ")\n",
    "fig.update_xaxes(showticklabels=False)\n",
    "fig.update_yaxes(showticklabels=False)\n",
    "fig.show()\n"
   ]
  },
  {
   "cell_type": "markdown",
   "metadata": {},
   "source": [
    "### Waffle chart if montreal was the Quebec"
   ]
  },
  {
   "cell_type": "code",
   "execution_count": null,
   "metadata": {},
   "outputs": [],
   "source": [
    "\n",
    "import plotly.graph_objects as go\n",
    "import numpy as np\n",
    "from preprocess import political_parties\n",
    "from visual_helper import set_customdata\n",
    "\n",
    "### Interpolation\n",
    "# L\t\t\n",
    "# 16\t74,0736\t74\n",
    "# Q\t\t\n",
    "# 1\t4,6296\t5\n",
    "# S\t\t\n",
    "# 8\t37,0368\t37\n",
    "# C\t\t\n",
    "# 2\t9,2592\t9\n",
    "\n",
    "m = 5  # Augmentation du nombre de lignes\n",
    "n = 25  # Augmentation du nombre de colonnes\n",
    "z = np.ones((m, n))\n",
    "\n",
    "z[0:5, 0:15] = 2\n",
    "z[4, 14] = 4\n",
    "z[0:4,15] = 4\n",
    "z[4,15] = 3\n",
    "z[0:5, 16:23] = 3\n",
    "z[0, 23] = 3\n",
    "# z[1:4, 4] = 4\n",
    "# z[1,7] = 1\n",
    "\n",
    "M = max([len(s) for s in political_parties.values()])\n",
    "customdata = np.empty((m, n), dtype=f'<U{M}')  \n",
    "\n",
    "for i in range(m):\n",
    "    for j in range(n):           \n",
    "        customdata[i, j] = political_parties[z[i, j]] \n",
    "\n",
    "# Définition de la palette de couleurs\n",
    "colorscale = [[0, \"#1E90FF\"], #1E90FF\n",
    "              [0.33, \"#00cc96\"], #00cc96\n",
    "              [0.33, \"#b52121\"], #b52121\n",
    "              [0.66,  \"#FF8040\"], #FF8040\n",
    "              [0.66, \"#FF8040\"],\n",
    "              [1,\"#004A9A\"]] #004A9A\n",
    "\n",
    "# Ajustement des étiquettes\n",
    "\n",
    "\n",
    "fig = go.Figure(go.Heatmap(z=z,\n",
    "                           customdata=customdata, xgap=3, ygap=3,\n",
    "                           colorscale=colorscale, showscale=False,\n",
    "                           hovertemplate=\"%{customdata}<extra></extra>\"))\n",
    "\n",
    "fig.update_layout(width=700, height=300, yaxis_autorange='reversed')\n",
    "fig.update_layout(\n",
    "    title=\"Sièges par parti politique à l'Assemblée nationale du Québec aux élections 2022 <br> si Montréal était tout le Québec\",\n",
    "    title_x=0.5  # Centers the title\n",
    ")\n",
    "fig.update_xaxes(showticklabels=False)\n",
    "fig.update_yaxes(showticklabels=False)\n",
    "fig.show()\n"
   ]
  },
  {
   "cell_type": "markdown",
   "metadata": {},
   "source": [
    "### Median immigration vote"
   ]
  },
  {
   "cell_type": "code",
   "execution_count": 1,
   "metadata": {},
   "outputs": [
    {
     "name": "stdout",
     "output_type": "stream",
     "text": [
      "62\n",
      "62\n"
     ]
    },
    {
     "name": "stderr",
     "output_type": "stream",
     "text": [
      "c:\\Users\\sidne\\Documents\\Vie_courante\\Ecole\\Universite\\Hiver2025\\Visualisation\\INF8808-H25-projet\\src\\preprocess.py:146: FutureWarning: The provided callable <built-in function max> is currently using SeriesGroupBy.max. In a future version of pandas, the provided callable will be used directly. To keep current behavior pass the string \"max\" instead.\n",
      "  df_grouped = df_grouped[df_grouped['nbVoteAvance'] == df_grouped.groupby('nomCirconscription')['nbVoteAvance'].transform(max)]\n"
     ]
    },
    {
     "data": {
      "text/html": [
       "<div>\n",
       "<style scoped>\n",
       "    .dataframe tbody tr th:only-of-type {\n",
       "        vertical-align: middle;\n",
       "    }\n",
       "\n",
       "    .dataframe tbody tr th {\n",
       "        vertical-align: top;\n",
       "    }\n",
       "\n",
       "    .dataframe thead th {\n",
       "        text-align: right;\n",
       "    }\n",
       "</style>\n",
       "<table border=\"1\" class=\"dataframe\">\n",
       "  <thead>\n",
       "    <tr style=\"text-align: right;\">\n",
       "      <th></th>\n",
       "      <th>abreviationPartiPolitique</th>\n",
       "      <th>Seats</th>\n",
       "    </tr>\n",
       "  </thead>\n",
       "  <tbody>\n",
       "    <tr>\n",
       "      <th>0</th>\n",
       "      <td>C.A.Q.-E.F.L.</td>\n",
       "      <td>59</td>\n",
       "    </tr>\n",
       "    <tr>\n",
       "      <th>1</th>\n",
       "      <td>P.Q.</td>\n",
       "      <td>3</td>\n",
       "    </tr>\n",
       "  </tbody>\n",
       "</table>\n",
       "</div>"
      ],
      "text/plain": [
       "  abreviationPartiPolitique  Seats\n",
       "0             C.A.Q.-E.F.L.     59\n",
       "1                      P.Q.      3"
      ]
     },
     "execution_count": 1,
     "metadata": {},
     "output_type": "execute_result"
    }
   ],
   "source": [
    "# Get amount of seats per party\n",
    "import plotly.express as px\n",
    "from preprocess import get_demographics_data, get_elections_data, get_elections_data_by_winning_party\n",
    "\n",
    "%load_ext autoreload\n",
    "%autoreload 2\n",
    "\n",
    "total_cir = 125\n",
    "df_demographics = get_demographics_data()\n",
    "columns_of_interests = ['Immigrants']\n",
    "immigration_rate = df_demographics[['Circonscription', 'Immigrants']]\n",
    "df_election = get_elections_data()\n",
    "df_election = get_elections_data_by_winning_party(df_election)\n",
    "# df_election = get_participation_per_district(df_election)\n",
    "df_election.rename(columns={'nomCirconscription': 'Circonscription'}, inplace=True)\n",
    "df_election = df_election.merge(right=immigration_rate, how='inner', on='Circonscription')\n",
    "df_election.head(10)\n",
    "# # df_election[\"Immigrants\"] = df_election[\"Immigrants\"].str.replace('%', '').str.replace(',', '.').astype(float)\n",
    "# sort by immigrants rate\n",
    "df_election.sort_values(by=[\"Immigrants\"], ascending=False, inplace=True)\n",
    "# print(len(df_election))\n",
    "df_higher_immigration = df_election.head(total_cir//2)\n",
    "df_lower_immigration = df_election.tail(total_cir//2)\n",
    "print(len(df_higher_immigration))\n",
    "print(len(df_lower_immigration))\n",
    "# split the data into 2 groups with the median\n",
    "# df_higher_immigration.head(10)\n",
    "\n",
    "seats_higher = df_higher_immigration.groupby('abreviationPartiPolitique')['Circonscription'].count().reset_index()\n",
    "seats_higher.rename(columns={'Circonscription': 'Seats'}, inplace=True)\n",
    "seats_higher.sort_values(by=['Seats'], ascending=False, inplace=True)\n",
    "seats_lower = df_lower_immigration.groupby('abreviationPartiPolitique')['Circonscription'].count().reset_index()\n",
    "seats_lower.rename(columns={'Circonscription': 'Seats'}, inplace=True)\n",
    "seats_lower.sort_values(by=['Seats'], ascending=False, inplace=True)\n",
    "\n",
    "# seats_higher.head(10)\n",
    "seats_lower.head(10)"
   ]
  },
  {
   "cell_type": "code",
   "execution_count": 2,
   "metadata": {},
   "outputs": [
    {
     "data": {
      "application/vnd.plotly.v1+json": {
       "config": {
        "plotlyServerURL": "https://plot.ly"
       },
       "data": [
        {
         "colorscale": [
          [
           0,
           "#1E90FF"
          ],
          [
           0.33,
           "#1E90FF"
          ],
          [
           0.33,
           "#b52121"
          ],
          [
           0.66,
           "#b52121"
          ],
          [
           0.66,
           "#FF8040"
          ],
          [
           1,
           "#FF8040"
          ]
         ],
         "customdata": [
          [
           "Parti libéral du Québec",
           "Parti libéral du Québec",
           "Coalition avenir Québec",
           "Coalition avenir Québec",
           "Coalition avenir Québec",
           "Coalition avenir Québec",
           "Coalition avenir Québec",
           "Coalition avenir Québec",
           "Coalition avenir Québec",
           "Coalition avenir Québec",
           "Coalition avenir Québec",
           "Coalition avenir Québec",
           "Coalition avenir Québec",
           "Coalition avenir Québec",
           "Coalition avenir Québec",
           "Coalition avenir Québec",
           "Coalition avenir Québec",
           "Coalition avenir Québec",
           "Coalition avenir Québec",
           "Coalition avenir Québec",
           "Coalition avenir Québec",
           "Coalition avenir Québec",
           "Coalition avenir Québec",
           "Coalition avenir Québec",
           "Coalition avenir Québec",
           "Coalition avenir Québec",
           "Coalition avenir Québec",
           "Coalition avenir Québec",
           "Coalition avenir Québec",
           "Coalition avenir Québec",
           "Coalition avenir Québec"
          ],
          [
           "Québec solidaire",
           "Québec solidaire",
           "Québec solidaire",
           "Québec solidaire",
           "Québec solidaire",
           "Québec solidaire",
           "Québec solidaire",
           "Québec solidaire",
           "Québec solidaire",
           "Québec solidaire",
           "Québec solidaire",
           "Parti libéral du Québec",
           "Parti libéral du Québec",
           "Parti libéral du Québec",
           "Parti libéral du Québec",
           "Parti libéral du Québec",
           "Parti libéral du Québec",
           "Parti libéral du Québec",
           "Parti libéral du Québec",
           "Parti libéral du Québec",
           "Parti libéral du Québec",
           "Parti libéral du Québec",
           "Parti libéral du Québec",
           "Parti libéral du Québec",
           "Parti libéral du Québec",
           "Parti libéral du Québec",
           "Parti libéral du Québec",
           "Parti libéral du Québec",
           "Parti libéral du Québec",
           "Parti libéral du Québec",
           "Parti libéral du Québec"
          ]
         ],
         "hovertemplate": "(%{y}, %{x}): %{customdata})<extra></extra>",
         "showscale": false,
         "type": "heatmap",
         "xgap": 1,
         "ygap": 1,
         "z": [
          [
           2,
           2,
           1,
           1,
           1,
           1,
           1,
           1,
           1,
           1,
           1,
           1,
           1,
           1,
           1,
           1,
           1,
           1,
           1,
           1,
           1,
           1,
           1,
           1,
           1,
           1,
           1,
           1,
           1,
           1,
           1
          ],
          [
           3,
           3,
           3,
           3,
           3,
           3,
           3,
           3,
           3,
           3,
           3,
           2,
           2,
           2,
           2,
           2,
           2,
           2,
           2,
           2,
           2,
           2,
           2,
           2,
           2,
           2,
           2,
           2,
           2,
           2,
           2
          ]
         ]
        }
       ],
       "layout": {
        "height": 210,
        "template": {
         "data": {
          "bar": [
           {
            "error_x": {
             "color": "#2a3f5f"
            },
            "error_y": {
             "color": "#2a3f5f"
            },
            "marker": {
             "line": {
              "color": "#E5ECF6",
              "width": 0.5
             },
             "pattern": {
              "fillmode": "overlay",
              "size": 10,
              "solidity": 0.2
             }
            },
            "type": "bar"
           }
          ],
          "barpolar": [
           {
            "marker": {
             "line": {
              "color": "#E5ECF6",
              "width": 0.5
             },
             "pattern": {
              "fillmode": "overlay",
              "size": 10,
              "solidity": 0.2
             }
            },
            "type": "barpolar"
           }
          ],
          "carpet": [
           {
            "aaxis": {
             "endlinecolor": "#2a3f5f",
             "gridcolor": "white",
             "linecolor": "white",
             "minorgridcolor": "white",
             "startlinecolor": "#2a3f5f"
            },
            "baxis": {
             "endlinecolor": "#2a3f5f",
             "gridcolor": "white",
             "linecolor": "white",
             "minorgridcolor": "white",
             "startlinecolor": "#2a3f5f"
            },
            "type": "carpet"
           }
          ],
          "choropleth": [
           {
            "colorbar": {
             "outlinewidth": 0,
             "ticks": ""
            },
            "type": "choropleth"
           }
          ],
          "contour": [
           {
            "colorbar": {
             "outlinewidth": 0,
             "ticks": ""
            },
            "colorscale": [
             [
              0,
              "#0d0887"
             ],
             [
              0.1111111111111111,
              "#46039f"
             ],
             [
              0.2222222222222222,
              "#7201a8"
             ],
             [
              0.3333333333333333,
              "#9c179e"
             ],
             [
              0.4444444444444444,
              "#bd3786"
             ],
             [
              0.5555555555555556,
              "#d8576b"
             ],
             [
              0.6666666666666666,
              "#ed7953"
             ],
             [
              0.7777777777777778,
              "#fb9f3a"
             ],
             [
              0.8888888888888888,
              "#fdca26"
             ],
             [
              1,
              "#f0f921"
             ]
            ],
            "type": "contour"
           }
          ],
          "contourcarpet": [
           {
            "colorbar": {
             "outlinewidth": 0,
             "ticks": ""
            },
            "type": "contourcarpet"
           }
          ],
          "heatmap": [
           {
            "colorbar": {
             "outlinewidth": 0,
             "ticks": ""
            },
            "colorscale": [
             [
              0,
              "#0d0887"
             ],
             [
              0.1111111111111111,
              "#46039f"
             ],
             [
              0.2222222222222222,
              "#7201a8"
             ],
             [
              0.3333333333333333,
              "#9c179e"
             ],
             [
              0.4444444444444444,
              "#bd3786"
             ],
             [
              0.5555555555555556,
              "#d8576b"
             ],
             [
              0.6666666666666666,
              "#ed7953"
             ],
             [
              0.7777777777777778,
              "#fb9f3a"
             ],
             [
              0.8888888888888888,
              "#fdca26"
             ],
             [
              1,
              "#f0f921"
             ]
            ],
            "type": "heatmap"
           }
          ],
          "heatmapgl": [
           {
            "colorbar": {
             "outlinewidth": 0,
             "ticks": ""
            },
            "colorscale": [
             [
              0,
              "#0d0887"
             ],
             [
              0.1111111111111111,
              "#46039f"
             ],
             [
              0.2222222222222222,
              "#7201a8"
             ],
             [
              0.3333333333333333,
              "#9c179e"
             ],
             [
              0.4444444444444444,
              "#bd3786"
             ],
             [
              0.5555555555555556,
              "#d8576b"
             ],
             [
              0.6666666666666666,
              "#ed7953"
             ],
             [
              0.7777777777777778,
              "#fb9f3a"
             ],
             [
              0.8888888888888888,
              "#fdca26"
             ],
             [
              1,
              "#f0f921"
             ]
            ],
            "type": "heatmapgl"
           }
          ],
          "histogram": [
           {
            "marker": {
             "pattern": {
              "fillmode": "overlay",
              "size": 10,
              "solidity": 0.2
             }
            },
            "type": "histogram"
           }
          ],
          "histogram2d": [
           {
            "colorbar": {
             "outlinewidth": 0,
             "ticks": ""
            },
            "colorscale": [
             [
              0,
              "#0d0887"
             ],
             [
              0.1111111111111111,
              "#46039f"
             ],
             [
              0.2222222222222222,
              "#7201a8"
             ],
             [
              0.3333333333333333,
              "#9c179e"
             ],
             [
              0.4444444444444444,
              "#bd3786"
             ],
             [
              0.5555555555555556,
              "#d8576b"
             ],
             [
              0.6666666666666666,
              "#ed7953"
             ],
             [
              0.7777777777777778,
              "#fb9f3a"
             ],
             [
              0.8888888888888888,
              "#fdca26"
             ],
             [
              1,
              "#f0f921"
             ]
            ],
            "type": "histogram2d"
           }
          ],
          "histogram2dcontour": [
           {
            "colorbar": {
             "outlinewidth": 0,
             "ticks": ""
            },
            "colorscale": [
             [
              0,
              "#0d0887"
             ],
             [
              0.1111111111111111,
              "#46039f"
             ],
             [
              0.2222222222222222,
              "#7201a8"
             ],
             [
              0.3333333333333333,
              "#9c179e"
             ],
             [
              0.4444444444444444,
              "#bd3786"
             ],
             [
              0.5555555555555556,
              "#d8576b"
             ],
             [
              0.6666666666666666,
              "#ed7953"
             ],
             [
              0.7777777777777778,
              "#fb9f3a"
             ],
             [
              0.8888888888888888,
              "#fdca26"
             ],
             [
              1,
              "#f0f921"
             ]
            ],
            "type": "histogram2dcontour"
           }
          ],
          "mesh3d": [
           {
            "colorbar": {
             "outlinewidth": 0,
             "ticks": ""
            },
            "type": "mesh3d"
           }
          ],
          "parcoords": [
           {
            "line": {
             "colorbar": {
              "outlinewidth": 0,
              "ticks": ""
             }
            },
            "type": "parcoords"
           }
          ],
          "pie": [
           {
            "automargin": true,
            "type": "pie"
           }
          ],
          "scatter": [
           {
            "fillpattern": {
             "fillmode": "overlay",
             "size": 10,
             "solidity": 0.2
            },
            "type": "scatter"
           }
          ],
          "scatter3d": [
           {
            "line": {
             "colorbar": {
              "outlinewidth": 0,
              "ticks": ""
             }
            },
            "marker": {
             "colorbar": {
              "outlinewidth": 0,
              "ticks": ""
             }
            },
            "type": "scatter3d"
           }
          ],
          "scattercarpet": [
           {
            "marker": {
             "colorbar": {
              "outlinewidth": 0,
              "ticks": ""
             }
            },
            "type": "scattercarpet"
           }
          ],
          "scattergeo": [
           {
            "marker": {
             "colorbar": {
              "outlinewidth": 0,
              "ticks": ""
             }
            },
            "type": "scattergeo"
           }
          ],
          "scattergl": [
           {
            "marker": {
             "colorbar": {
              "outlinewidth": 0,
              "ticks": ""
             }
            },
            "type": "scattergl"
           }
          ],
          "scattermapbox": [
           {
            "marker": {
             "colorbar": {
              "outlinewidth": 0,
              "ticks": ""
             }
            },
            "type": "scattermapbox"
           }
          ],
          "scatterpolar": [
           {
            "marker": {
             "colorbar": {
              "outlinewidth": 0,
              "ticks": ""
             }
            },
            "type": "scatterpolar"
           }
          ],
          "scatterpolargl": [
           {
            "marker": {
             "colorbar": {
              "outlinewidth": 0,
              "ticks": ""
             }
            },
            "type": "scatterpolargl"
           }
          ],
          "scatterternary": [
           {
            "marker": {
             "colorbar": {
              "outlinewidth": 0,
              "ticks": ""
             }
            },
            "type": "scatterternary"
           }
          ],
          "surface": [
           {
            "colorbar": {
             "outlinewidth": 0,
             "ticks": ""
            },
            "colorscale": [
             [
              0,
              "#0d0887"
             ],
             [
              0.1111111111111111,
              "#46039f"
             ],
             [
              0.2222222222222222,
              "#7201a8"
             ],
             [
              0.3333333333333333,
              "#9c179e"
             ],
             [
              0.4444444444444444,
              "#bd3786"
             ],
             [
              0.5555555555555556,
              "#d8576b"
             ],
             [
              0.6666666666666666,
              "#ed7953"
             ],
             [
              0.7777777777777778,
              "#fb9f3a"
             ],
             [
              0.8888888888888888,
              "#fdca26"
             ],
             [
              1,
              "#f0f921"
             ]
            ],
            "type": "surface"
           }
          ],
          "table": [
           {
            "cells": {
             "fill": {
              "color": "#EBF0F8"
             },
             "line": {
              "color": "white"
             }
            },
            "header": {
             "fill": {
              "color": "#C8D4E3"
             },
             "line": {
              "color": "white"
             }
            },
            "type": "table"
           }
          ]
         },
         "layout": {
          "annotationdefaults": {
           "arrowcolor": "#2a3f5f",
           "arrowhead": 0,
           "arrowwidth": 1
          },
          "autotypenumbers": "strict",
          "coloraxis": {
           "colorbar": {
            "outlinewidth": 0,
            "ticks": ""
           }
          },
          "colorscale": {
           "diverging": [
            [
             0,
             "#8e0152"
            ],
            [
             0.1,
             "#c51b7d"
            ],
            [
             0.2,
             "#de77ae"
            ],
            [
             0.3,
             "#f1b6da"
            ],
            [
             0.4,
             "#fde0ef"
            ],
            [
             0.5,
             "#f7f7f7"
            ],
            [
             0.6,
             "#e6f5d0"
            ],
            [
             0.7,
             "#b8e186"
            ],
            [
             0.8,
             "#7fbc41"
            ],
            [
             0.9,
             "#4d9221"
            ],
            [
             1,
             "#276419"
            ]
           ],
           "sequential": [
            [
             0,
             "#0d0887"
            ],
            [
             0.1111111111111111,
             "#46039f"
            ],
            [
             0.2222222222222222,
             "#7201a8"
            ],
            [
             0.3333333333333333,
             "#9c179e"
            ],
            [
             0.4444444444444444,
             "#bd3786"
            ],
            [
             0.5555555555555556,
             "#d8576b"
            ],
            [
             0.6666666666666666,
             "#ed7953"
            ],
            [
             0.7777777777777778,
             "#fb9f3a"
            ],
            [
             0.8888888888888888,
             "#fdca26"
            ],
            [
             1,
             "#f0f921"
            ]
           ],
           "sequentialminus": [
            [
             0,
             "#0d0887"
            ],
            [
             0.1111111111111111,
             "#46039f"
            ],
            [
             0.2222222222222222,
             "#7201a8"
            ],
            [
             0.3333333333333333,
             "#9c179e"
            ],
            [
             0.4444444444444444,
             "#bd3786"
            ],
            [
             0.5555555555555556,
             "#d8576b"
            ],
            [
             0.6666666666666666,
             "#ed7953"
            ],
            [
             0.7777777777777778,
             "#fb9f3a"
            ],
            [
             0.8888888888888888,
             "#fdca26"
            ],
            [
             1,
             "#f0f921"
            ]
           ]
          },
          "colorway": [
           "#636efa",
           "#EF553B",
           "#00cc96",
           "#ab63fa",
           "#FFA15A",
           "#19d3f3",
           "#FF6692",
           "#B6E880",
           "#FF97FF",
           "#FECB52"
          ],
          "font": {
           "color": "#2a3f5f"
          },
          "geo": {
           "bgcolor": "white",
           "lakecolor": "white",
           "landcolor": "#E5ECF6",
           "showlakes": true,
           "showland": true,
           "subunitcolor": "white"
          },
          "hoverlabel": {
           "align": "left"
          },
          "hovermode": "closest",
          "mapbox": {
           "style": "light"
          },
          "paper_bgcolor": "white",
          "plot_bgcolor": "#E5ECF6",
          "polar": {
           "angularaxis": {
            "gridcolor": "white",
            "linecolor": "white",
            "ticks": ""
           },
           "bgcolor": "#E5ECF6",
           "radialaxis": {
            "gridcolor": "white",
            "linecolor": "white",
            "ticks": ""
           }
          },
          "scene": {
           "xaxis": {
            "backgroundcolor": "#E5ECF6",
            "gridcolor": "white",
            "gridwidth": 2,
            "linecolor": "white",
            "showbackground": true,
            "ticks": "",
            "zerolinecolor": "white"
           },
           "yaxis": {
            "backgroundcolor": "#E5ECF6",
            "gridcolor": "white",
            "gridwidth": 2,
            "linecolor": "white",
            "showbackground": true,
            "ticks": "",
            "zerolinecolor": "white"
           },
           "zaxis": {
            "backgroundcolor": "#E5ECF6",
            "gridcolor": "white",
            "gridwidth": 2,
            "linecolor": "white",
            "showbackground": true,
            "ticks": "",
            "zerolinecolor": "white"
           }
          },
          "shapedefaults": {
           "line": {
            "color": "#2a3f5f"
           }
          },
          "ternary": {
           "aaxis": {
            "gridcolor": "white",
            "linecolor": "white",
            "ticks": ""
           },
           "baxis": {
            "gridcolor": "white",
            "linecolor": "white",
            "ticks": ""
           },
           "bgcolor": "#E5ECF6",
           "caxis": {
            "gridcolor": "white",
            "linecolor": "white",
            "ticks": ""
           }
          },
          "title": {
           "x": 0.05
          },
          "xaxis": {
           "automargin": true,
           "gridcolor": "white",
           "linecolor": "white",
           "ticks": "",
           "title": {
            "standoff": 15
           },
           "zerolinecolor": "white",
           "zerolinewidth": 2
          },
          "yaxis": {
           "automargin": true,
           "gridcolor": "white",
           "linecolor": "white",
           "ticks": "",
           "title": {
            "standoff": 15
           },
           "zerolinecolor": "white",
           "zerolinewidth": 2
          }
         }
        },
        "title": {
         "text": "Sièges par parti politique médianne d'immigration supérieur 2022",
         "x": 0.5
        },
        "width": 700,
        "xaxis": {
         "showticklabels": false
        },
        "yaxis": {
         "showticklabels": false
        }
       }
      }
     },
     "metadata": {},
     "output_type": "display_data"
    }
   ],
   "source": [
    "# Affiche le waffle chart\n",
    "import plotly.graph_objects as go\n",
    "import numpy as np\n",
    "from visual_helper import set_customdata\n",
    "\n",
    "m = 2  # Augmentation du nombre de lignes\n",
    "n = 31  # Augmentation du nombre de colonnes\n",
    "z = np.ones((m, n))\n",
    "\n",
    "z[1, 0:11] = 3\n",
    "z[1, 11:31] = 2\n",
    "z[0, 0:2] = 2\n",
    "# z[0:5, 5:7] = 3\n",
    "# z[1:4, 4] = 4\n",
    "# z[1,7] = 1\n",
    "\n",
    "political_parties = {\n",
    "    1: \"Coalition avenir Québec\",\n",
    "    2: \"Parti libéral du Québec\",\n",
    "    3: \"Québec solidaire\",\n",
    "    4: \"Parti québécois\"\n",
    "    }\n",
    "M = max([len(s) for s in political_parties.values()])\n",
    "customdata = np.empty((m, n), dtype=f'<U{M}')  \n",
    "\n",
    "for i in range(m):\n",
    "    for j in range(n):           \n",
    "        customdata[i, j] = political_parties[z[i, j]] \n",
    "\n",
    "# Définition de la palette de couleurs\n",
    "\n",
    "colorscale = [[0, \"#1E90FF\"], #1E90FF\n",
    "              [0.33, \"#1E90FF\"], #00cc96\n",
    "              [0.33, \"#b52121\"], #b52121\n",
    "              [0.66,  \"#b52121\"], #FF8040\n",
    "              [0.66, \"#FF8040\"],\n",
    "              [1,\"#FF8040\"]] #004A9A\n",
    "\n",
    "# Ajustement des étiquettes\n",
    "xlabels = [f'X{i}' for i in range(n)]  \n",
    "ylabels = [f'Y{i}' for i in range(m)]  \n",
    "\n",
    "fig = go.Figure(go.Heatmap(z=z,\n",
    "                           customdata=customdata, xgap=1, ygap=1,\n",
    "                           colorscale=colorscale, showscale=False,\n",
    "                           hovertemplate=\"(%{y}, %{x}): %{customdata})<extra></extra>\"))\n",
    "\n",
    "fig.update_layout(width=700, height=210)\n",
    "\n",
    "\n",
    "fig.update_layout(\n",
    "    title=\"Sièges par parti politique médianne d'immigration supérieur 2022\",\n",
    "    title_x=0.5  # Centers the title\n",
    ")\n",
    "fig.update_xaxes(showticklabels=False)\n",
    "fig.update_yaxes(showticklabels=False)\n",
    "fig.show()\n",
    "\n"
   ]
  },
  {
   "cell_type": "code",
   "execution_count": 3,
   "metadata": {},
   "outputs": [
    {
     "data": {
      "application/vnd.plotly.v1+json": {
       "config": {
        "plotlyServerURL": "https://plot.ly"
       },
       "data": [
        {
         "colorscale": [
          [
           0,
           "#1E90FF"
          ],
          [
           0.33,
           "#00cc96"
          ],
          [
           0.33,
           "#b52121"
          ],
          [
           0.66,
           "#FF8040"
          ],
          [
           0.66,
           "#FF8040"
          ],
          [
           1,
           "#004A9A"
          ]
         ],
         "customdata": [
          [
           "Coalition avenir Québec",
           "Coalition avenir Québec",
           "Coalition avenir Québec",
           "Coalition avenir Québec",
           "Coalition avenir Québec",
           "Coalition avenir Québec",
           "Coalition avenir Québec",
           "Coalition avenir Québec",
           "Coalition avenir Québec",
           "Coalition avenir Québec",
           "Coalition avenir Québec",
           "Coalition avenir Québec",
           "Coalition avenir Québec",
           "Coalition avenir Québec",
           "Coalition avenir Québec",
           "Coalition avenir Québec",
           "Coalition avenir Québec",
           "Coalition avenir Québec",
           "Coalition avenir Québec",
           "Coalition avenir Québec",
           "Coalition avenir Québec",
           "Coalition avenir Québec",
           "Coalition avenir Québec",
           "Coalition avenir Québec",
           "Coalition avenir Québec",
           "Coalition avenir Québec",
           "Coalition avenir Québec",
           "Coalition avenir Québec",
           "Coalition avenir Québec",
           "Coalition avenir Québec",
           "Coalition avenir Québec"
          ],
          [
           "Parti québécois",
           "Parti québécois",
           "Parti québécois",
           "Coalition avenir Québec",
           "Coalition avenir Québec",
           "Coalition avenir Québec",
           "Coalition avenir Québec",
           "Coalition avenir Québec",
           "Coalition avenir Québec",
           "Coalition avenir Québec",
           "Coalition avenir Québec",
           "Coalition avenir Québec",
           "Coalition avenir Québec",
           "Coalition avenir Québec",
           "Coalition avenir Québec",
           "Coalition avenir Québec",
           "Coalition avenir Québec",
           "Coalition avenir Québec",
           "Coalition avenir Québec",
           "Coalition avenir Québec",
           "Coalition avenir Québec",
           "Coalition avenir Québec",
           "Coalition avenir Québec",
           "Coalition avenir Québec",
           "Coalition avenir Québec",
           "Coalition avenir Québec",
           "Coalition avenir Québec",
           "Coalition avenir Québec",
           "Coalition avenir Québec",
           "Coalition avenir Québec",
           "Coalition avenir Québec"
          ]
         ],
         "hovertemplate": "(%{y}, %{x}): %{customdata})<extra></extra>",
         "showscale": false,
         "type": "heatmap",
         "xgap": 1,
         "ygap": 1,
         "z": [
          [
           1,
           1,
           1,
           1,
           1,
           1,
           1,
           1,
           1,
           1,
           1,
           1,
           1,
           1,
           1,
           1,
           1,
           1,
           1,
           1,
           1,
           1,
           1,
           1,
           1,
           1,
           1,
           1,
           1,
           1,
           1
          ],
          [
           4,
           4,
           4,
           1,
           1,
           1,
           1,
           1,
           1,
           1,
           1,
           1,
           1,
           1,
           1,
           1,
           1,
           1,
           1,
           1,
           1,
           1,
           1,
           1,
           1,
           1,
           1,
           1,
           1,
           1,
           1
          ]
         ]
        }
       ],
       "layout": {
        "height": 210,
        "template": {
         "data": {
          "bar": [
           {
            "error_x": {
             "color": "#2a3f5f"
            },
            "error_y": {
             "color": "#2a3f5f"
            },
            "marker": {
             "line": {
              "color": "#E5ECF6",
              "width": 0.5
             },
             "pattern": {
              "fillmode": "overlay",
              "size": 10,
              "solidity": 0.2
             }
            },
            "type": "bar"
           }
          ],
          "barpolar": [
           {
            "marker": {
             "line": {
              "color": "#E5ECF6",
              "width": 0.5
             },
             "pattern": {
              "fillmode": "overlay",
              "size": 10,
              "solidity": 0.2
             }
            },
            "type": "barpolar"
           }
          ],
          "carpet": [
           {
            "aaxis": {
             "endlinecolor": "#2a3f5f",
             "gridcolor": "white",
             "linecolor": "white",
             "minorgridcolor": "white",
             "startlinecolor": "#2a3f5f"
            },
            "baxis": {
             "endlinecolor": "#2a3f5f",
             "gridcolor": "white",
             "linecolor": "white",
             "minorgridcolor": "white",
             "startlinecolor": "#2a3f5f"
            },
            "type": "carpet"
           }
          ],
          "choropleth": [
           {
            "colorbar": {
             "outlinewidth": 0,
             "ticks": ""
            },
            "type": "choropleth"
           }
          ],
          "contour": [
           {
            "colorbar": {
             "outlinewidth": 0,
             "ticks": ""
            },
            "colorscale": [
             [
              0,
              "#0d0887"
             ],
             [
              0.1111111111111111,
              "#46039f"
             ],
             [
              0.2222222222222222,
              "#7201a8"
             ],
             [
              0.3333333333333333,
              "#9c179e"
             ],
             [
              0.4444444444444444,
              "#bd3786"
             ],
             [
              0.5555555555555556,
              "#d8576b"
             ],
             [
              0.6666666666666666,
              "#ed7953"
             ],
             [
              0.7777777777777778,
              "#fb9f3a"
             ],
             [
              0.8888888888888888,
              "#fdca26"
             ],
             [
              1,
              "#f0f921"
             ]
            ],
            "type": "contour"
           }
          ],
          "contourcarpet": [
           {
            "colorbar": {
             "outlinewidth": 0,
             "ticks": ""
            },
            "type": "contourcarpet"
           }
          ],
          "heatmap": [
           {
            "colorbar": {
             "outlinewidth": 0,
             "ticks": ""
            },
            "colorscale": [
             [
              0,
              "#0d0887"
             ],
             [
              0.1111111111111111,
              "#46039f"
             ],
             [
              0.2222222222222222,
              "#7201a8"
             ],
             [
              0.3333333333333333,
              "#9c179e"
             ],
             [
              0.4444444444444444,
              "#bd3786"
             ],
             [
              0.5555555555555556,
              "#d8576b"
             ],
             [
              0.6666666666666666,
              "#ed7953"
             ],
             [
              0.7777777777777778,
              "#fb9f3a"
             ],
             [
              0.8888888888888888,
              "#fdca26"
             ],
             [
              1,
              "#f0f921"
             ]
            ],
            "type": "heatmap"
           }
          ],
          "heatmapgl": [
           {
            "colorbar": {
             "outlinewidth": 0,
             "ticks": ""
            },
            "colorscale": [
             [
              0,
              "#0d0887"
             ],
             [
              0.1111111111111111,
              "#46039f"
             ],
             [
              0.2222222222222222,
              "#7201a8"
             ],
             [
              0.3333333333333333,
              "#9c179e"
             ],
             [
              0.4444444444444444,
              "#bd3786"
             ],
             [
              0.5555555555555556,
              "#d8576b"
             ],
             [
              0.6666666666666666,
              "#ed7953"
             ],
             [
              0.7777777777777778,
              "#fb9f3a"
             ],
             [
              0.8888888888888888,
              "#fdca26"
             ],
             [
              1,
              "#f0f921"
             ]
            ],
            "type": "heatmapgl"
           }
          ],
          "histogram": [
           {
            "marker": {
             "pattern": {
              "fillmode": "overlay",
              "size": 10,
              "solidity": 0.2
             }
            },
            "type": "histogram"
           }
          ],
          "histogram2d": [
           {
            "colorbar": {
             "outlinewidth": 0,
             "ticks": ""
            },
            "colorscale": [
             [
              0,
              "#0d0887"
             ],
             [
              0.1111111111111111,
              "#46039f"
             ],
             [
              0.2222222222222222,
              "#7201a8"
             ],
             [
              0.3333333333333333,
              "#9c179e"
             ],
             [
              0.4444444444444444,
              "#bd3786"
             ],
             [
              0.5555555555555556,
              "#d8576b"
             ],
             [
              0.6666666666666666,
              "#ed7953"
             ],
             [
              0.7777777777777778,
              "#fb9f3a"
             ],
             [
              0.8888888888888888,
              "#fdca26"
             ],
             [
              1,
              "#f0f921"
             ]
            ],
            "type": "histogram2d"
           }
          ],
          "histogram2dcontour": [
           {
            "colorbar": {
             "outlinewidth": 0,
             "ticks": ""
            },
            "colorscale": [
             [
              0,
              "#0d0887"
             ],
             [
              0.1111111111111111,
              "#46039f"
             ],
             [
              0.2222222222222222,
              "#7201a8"
             ],
             [
              0.3333333333333333,
              "#9c179e"
             ],
             [
              0.4444444444444444,
              "#bd3786"
             ],
             [
              0.5555555555555556,
              "#d8576b"
             ],
             [
              0.6666666666666666,
              "#ed7953"
             ],
             [
              0.7777777777777778,
              "#fb9f3a"
             ],
             [
              0.8888888888888888,
              "#fdca26"
             ],
             [
              1,
              "#f0f921"
             ]
            ],
            "type": "histogram2dcontour"
           }
          ],
          "mesh3d": [
           {
            "colorbar": {
             "outlinewidth": 0,
             "ticks": ""
            },
            "type": "mesh3d"
           }
          ],
          "parcoords": [
           {
            "line": {
             "colorbar": {
              "outlinewidth": 0,
              "ticks": ""
             }
            },
            "type": "parcoords"
           }
          ],
          "pie": [
           {
            "automargin": true,
            "type": "pie"
           }
          ],
          "scatter": [
           {
            "fillpattern": {
             "fillmode": "overlay",
             "size": 10,
             "solidity": 0.2
            },
            "type": "scatter"
           }
          ],
          "scatter3d": [
           {
            "line": {
             "colorbar": {
              "outlinewidth": 0,
              "ticks": ""
             }
            },
            "marker": {
             "colorbar": {
              "outlinewidth": 0,
              "ticks": ""
             }
            },
            "type": "scatter3d"
           }
          ],
          "scattercarpet": [
           {
            "marker": {
             "colorbar": {
              "outlinewidth": 0,
              "ticks": ""
             }
            },
            "type": "scattercarpet"
           }
          ],
          "scattergeo": [
           {
            "marker": {
             "colorbar": {
              "outlinewidth": 0,
              "ticks": ""
             }
            },
            "type": "scattergeo"
           }
          ],
          "scattergl": [
           {
            "marker": {
             "colorbar": {
              "outlinewidth": 0,
              "ticks": ""
             }
            },
            "type": "scattergl"
           }
          ],
          "scattermapbox": [
           {
            "marker": {
             "colorbar": {
              "outlinewidth": 0,
              "ticks": ""
             }
            },
            "type": "scattermapbox"
           }
          ],
          "scatterpolar": [
           {
            "marker": {
             "colorbar": {
              "outlinewidth": 0,
              "ticks": ""
             }
            },
            "type": "scatterpolar"
           }
          ],
          "scatterpolargl": [
           {
            "marker": {
             "colorbar": {
              "outlinewidth": 0,
              "ticks": ""
             }
            },
            "type": "scatterpolargl"
           }
          ],
          "scatterternary": [
           {
            "marker": {
             "colorbar": {
              "outlinewidth": 0,
              "ticks": ""
             }
            },
            "type": "scatterternary"
           }
          ],
          "surface": [
           {
            "colorbar": {
             "outlinewidth": 0,
             "ticks": ""
            },
            "colorscale": [
             [
              0,
              "#0d0887"
             ],
             [
              0.1111111111111111,
              "#46039f"
             ],
             [
              0.2222222222222222,
              "#7201a8"
             ],
             [
              0.3333333333333333,
              "#9c179e"
             ],
             [
              0.4444444444444444,
              "#bd3786"
             ],
             [
              0.5555555555555556,
              "#d8576b"
             ],
             [
              0.6666666666666666,
              "#ed7953"
             ],
             [
              0.7777777777777778,
              "#fb9f3a"
             ],
             [
              0.8888888888888888,
              "#fdca26"
             ],
             [
              1,
              "#f0f921"
             ]
            ],
            "type": "surface"
           }
          ],
          "table": [
           {
            "cells": {
             "fill": {
              "color": "#EBF0F8"
             },
             "line": {
              "color": "white"
             }
            },
            "header": {
             "fill": {
              "color": "#C8D4E3"
             },
             "line": {
              "color": "white"
             }
            },
            "type": "table"
           }
          ]
         },
         "layout": {
          "annotationdefaults": {
           "arrowcolor": "#2a3f5f",
           "arrowhead": 0,
           "arrowwidth": 1
          },
          "autotypenumbers": "strict",
          "coloraxis": {
           "colorbar": {
            "outlinewidth": 0,
            "ticks": ""
           }
          },
          "colorscale": {
           "diverging": [
            [
             0,
             "#8e0152"
            ],
            [
             0.1,
             "#c51b7d"
            ],
            [
             0.2,
             "#de77ae"
            ],
            [
             0.3,
             "#f1b6da"
            ],
            [
             0.4,
             "#fde0ef"
            ],
            [
             0.5,
             "#f7f7f7"
            ],
            [
             0.6,
             "#e6f5d0"
            ],
            [
             0.7,
             "#b8e186"
            ],
            [
             0.8,
             "#7fbc41"
            ],
            [
             0.9,
             "#4d9221"
            ],
            [
             1,
             "#276419"
            ]
           ],
           "sequential": [
            [
             0,
             "#0d0887"
            ],
            [
             0.1111111111111111,
             "#46039f"
            ],
            [
             0.2222222222222222,
             "#7201a8"
            ],
            [
             0.3333333333333333,
             "#9c179e"
            ],
            [
             0.4444444444444444,
             "#bd3786"
            ],
            [
             0.5555555555555556,
             "#d8576b"
            ],
            [
             0.6666666666666666,
             "#ed7953"
            ],
            [
             0.7777777777777778,
             "#fb9f3a"
            ],
            [
             0.8888888888888888,
             "#fdca26"
            ],
            [
             1,
             "#f0f921"
            ]
           ],
           "sequentialminus": [
            [
             0,
             "#0d0887"
            ],
            [
             0.1111111111111111,
             "#46039f"
            ],
            [
             0.2222222222222222,
             "#7201a8"
            ],
            [
             0.3333333333333333,
             "#9c179e"
            ],
            [
             0.4444444444444444,
             "#bd3786"
            ],
            [
             0.5555555555555556,
             "#d8576b"
            ],
            [
             0.6666666666666666,
             "#ed7953"
            ],
            [
             0.7777777777777778,
             "#fb9f3a"
            ],
            [
             0.8888888888888888,
             "#fdca26"
            ],
            [
             1,
             "#f0f921"
            ]
           ]
          },
          "colorway": [
           "#636efa",
           "#EF553B",
           "#00cc96",
           "#ab63fa",
           "#FFA15A",
           "#19d3f3",
           "#FF6692",
           "#B6E880",
           "#FF97FF",
           "#FECB52"
          ],
          "font": {
           "color": "#2a3f5f"
          },
          "geo": {
           "bgcolor": "white",
           "lakecolor": "white",
           "landcolor": "#E5ECF6",
           "showlakes": true,
           "showland": true,
           "subunitcolor": "white"
          },
          "hoverlabel": {
           "align": "left"
          },
          "hovermode": "closest",
          "mapbox": {
           "style": "light"
          },
          "paper_bgcolor": "white",
          "plot_bgcolor": "#E5ECF6",
          "polar": {
           "angularaxis": {
            "gridcolor": "white",
            "linecolor": "white",
            "ticks": ""
           },
           "bgcolor": "#E5ECF6",
           "radialaxis": {
            "gridcolor": "white",
            "linecolor": "white",
            "ticks": ""
           }
          },
          "scene": {
           "xaxis": {
            "backgroundcolor": "#E5ECF6",
            "gridcolor": "white",
            "gridwidth": 2,
            "linecolor": "white",
            "showbackground": true,
            "ticks": "",
            "zerolinecolor": "white"
           },
           "yaxis": {
            "backgroundcolor": "#E5ECF6",
            "gridcolor": "white",
            "gridwidth": 2,
            "linecolor": "white",
            "showbackground": true,
            "ticks": "",
            "zerolinecolor": "white"
           },
           "zaxis": {
            "backgroundcolor": "#E5ECF6",
            "gridcolor": "white",
            "gridwidth": 2,
            "linecolor": "white",
            "showbackground": true,
            "ticks": "",
            "zerolinecolor": "white"
           }
          },
          "shapedefaults": {
           "line": {
            "color": "#2a3f5f"
           }
          },
          "ternary": {
           "aaxis": {
            "gridcolor": "white",
            "linecolor": "white",
            "ticks": ""
           },
           "baxis": {
            "gridcolor": "white",
            "linecolor": "white",
            "ticks": ""
           },
           "bgcolor": "#E5ECF6",
           "caxis": {
            "gridcolor": "white",
            "linecolor": "white",
            "ticks": ""
           }
          },
          "title": {
           "x": 0.05
          },
          "xaxis": {
           "automargin": true,
           "gridcolor": "white",
           "linecolor": "white",
           "ticks": "",
           "title": {
            "standoff": 15
           },
           "zerolinecolor": "white",
           "zerolinewidth": 2
          },
          "yaxis": {
           "automargin": true,
           "gridcolor": "white",
           "linecolor": "white",
           "ticks": "",
           "title": {
            "standoff": 15
           },
           "zerolinecolor": "white",
           "zerolinewidth": 2
          }
         }
        },
        "title": {
         "text": "Sièges par parti politique médianne d'immigration inférieur 2022",
         "x": 0.5
        },
        "width": 700,
        "xaxis": {
         "showticklabels": false
        },
        "yaxis": {
         "showticklabels": false
        }
       }
      }
     },
     "metadata": {},
     "output_type": "display_data"
    }
   ],
   "source": [
    "# Affiche le waffle chart\n",
    "import plotly.graph_objects as go\n",
    "import numpy as np\n",
    "from visual_helper import set_customdata\n",
    "\n",
    "m = 2  # Augmentation du nombre de lignes\n",
    "n = 31  # Augmentation du nombre de colonnes\n",
    "z = np.ones((m, n))\n",
    "\n",
    "z[1, 0:3] = 4\n",
    "\n",
    "political_parties = {\n",
    "    1: \"Coalition avenir Québec\",\n",
    "    2: \"Parti libéral du Québec\",\n",
    "    3: \"Québec solidaire\",\n",
    "    4: \"Parti québécois\"\n",
    "    }\n",
    "M = max([len(s) for s in political_parties.values()])\n",
    "customdata = np.empty((m, n), dtype=f'<U{M}')  \n",
    "\n",
    "for i in range(m):\n",
    "    for j in range(n):           \n",
    "        customdata[i, j] = political_parties[z[i, j]] \n",
    "\n",
    "# Définition de la palette de couleurs\n",
    "colorscale = [[0, \"#1E90FF\"], #1E90FF\n",
    "              [0.33, \"#00cc96\"], #00cc96\n",
    "              [0.33, \"#b52121\"], #b52121\n",
    "              [0.66,  \"#FF8040\"], #FF8040\n",
    "              [0.66, \"#FF8040\"],\n",
    "              [1,\"#004A9A\"]] #004A9A\n",
    "# Ajustement des étiquettes\n",
    "xlabels = [f'X{i}' for i in range(n)]  \n",
    "ylabels = [f'Y{i}' for i in range(m)]  \n",
    "\n",
    "fig = go.Figure(go.Heatmap(z=z,\n",
    "                           customdata=customdata, xgap=1, ygap=1,\n",
    "                           colorscale=colorscale, showscale=False,\n",
    "                           hovertemplate=\"(%{y}, %{x}): %{customdata})<extra></extra>\"))\n",
    "\n",
    "fig.update_layout(width=700, height=210 )\n",
    "\n",
    "\n",
    "fig.update_layout(\n",
    "    title=\"Sièges par parti politique médianne d'immigration inférieur 2022\",\n",
    "    title_x=0.5  # Centers the title\n",
    ")\n",
    "fig.update_xaxes(showticklabels=False)\n",
    "fig.update_yaxes(showticklabels=False)\n",
    "fig.show()"
   ]
  },
  {
   "cell_type": "markdown",
   "metadata": {},
   "source": [
    "### Vote participation by % of immigrants"
   ]
  },
  {
   "cell_type": "code",
   "execution_count": 4,
   "metadata": {},
   "outputs": [
    {
     "name": "stdout",
     "output_type": "stream",
     "text": [
      "The autoreload extension is already loaded. To reload it, use:\n",
      "  %reload_ext autoreload\n"
     ]
    },
    {
     "data": {
      "application/vnd.plotly.v1+json": {
       "config": {
        "plotlyServerURL": "https://plot.ly"
       },
       "data": [
        {
         "customdata": [
          [
           "Abitibi-Est"
          ],
          [
           "Abitibi-Ouest"
          ],
          [
           "Acadie"
          ],
          [
           "Anjou-Louis-Riel"
          ],
          [
           "Argenteuil"
          ],
          [
           "Arthabaska"
          ],
          [
           "Beauce-Nord"
          ],
          [
           "Beauce-Sud"
          ],
          [
           "Beauharnois"
          ],
          [
           "Bellechasse"
          ],
          [
           "Berthier"
          ],
          [
           "Bertrand"
          ],
          [
           "Blainville"
          ],
          [
           "Bonaventure"
          ],
          [
           "Borduas"
          ],
          [
           "Bourassa-Sauve"
          ],
          [
           "Brome-Missisquoi"
          ],
          [
           "Camille-Laurin"
          ],
          [
           "Chambly"
          ],
          [
           "Champlain"
          ],
          [
           "Chapleau"
          ],
          [
           "Charlesbourg"
          ],
          [
           "Charlevoix-Cote-de-Beaupre"
          ],
          [
           "Chateauguay"
          ],
          [
           "Chauveau"
          ],
          [
           "Chicoutimi"
          ],
          [
           "Chomedey"
          ],
          [
           "Chutes-de-la-Chaudiere"
          ],
          [
           "Cote-du-Sud"
          ],
          [
           "D'Arcy-McGee"
          ],
          [
           "Deux-Montagnes"
          ],
          [
           "Drummond-Bois-Francs"
          ],
          [
           "Dubuc"
          ],
          [
           "Duplessis"
          ],
          [
           "Fabre"
          ],
          [
           "Gaspe"
          ],
          [
           "Gatineau"
          ],
          [
           "Gouin"
          ],
          [
           "Granby"
          ],
          [
           "Groulx"
          ],
          [
           "Hochelaga-Maisonneuve"
          ],
          [
           "Hull"
          ],
          [
           "Huntingdon"
          ],
          [
           "Iberville"
          ],
          [
           "Iles-de-la-Madeleine"
          ],
          [
           "Jacques-Cartier"
          ],
          [
           "Jean-Lesage"
          ],
          [
           "Jean-Talon"
          ],
          [
           "Jeanne-Mance-Viger"
          ],
          [
           "Johnson"
          ],
          [
           "Joliette"
          ],
          [
           "Jonquiere"
          ],
          [
           "L'Assomption"
          ],
          [
           "La Peltrie"
          ],
          [
           "La Piniere"
          ],
          [
           "La Prairie"
          ],
          [
           "LaFontaine"
          ],
          [
           "Labelle"
          ],
          [
           "Lac-Saint-Jean"
          ],
          [
           "Laporte"
          ],
          [
           "Laurier-Dorion"
          ],
          [
           "Laval-des-Rapides"
          ],
          [
           "Laviolette-Saint-Maurice"
          ],
          [
           "Les Plaines"
          ],
          [
           "Levis"
          ],
          [
           "Lotbiniere-Frontenac"
          ],
          [
           "Louis-Hebert"
          ],
          [
           "Marguerite-Bourgeoys"
          ],
          [
           "Marie-Victorin"
          ],
          [
           "Marquette"
          ],
          [
           "Maskinonge"
          ],
          [
           "Masson"
          ],
          [
           "Matane-Matapedia"
          ],
          [
           "Maurice-Richard"
          ],
          [
           "Megantic"
          ],
          [
           "Mercier"
          ],
          [
           "Mille-Iles"
          ],
          [
           "Mirabel"
          ],
          [
           "Mont-Royal-Outremont"
          ],
          [
           "Montarville"
          ],
          [
           "Montmorency"
          ],
          [
           "Nelligan"
          ],
          [
           "Nicolet-Becancour"
          ],
          [
           "Notre-Dame-de-Grace"
          ],
          [
           "Orford"
          ],
          [
           "Papineau"
          ],
          [
           "Pointe-aux-Trembles"
          ],
          [
           "Pontiac"
          ],
          [
           "Portneuf"
          ],
          [
           "Prevost"
          ],
          [
           "Rene-Levesque"
          ],
          [
           "Repentigny"
          ],
          [
           "Richelieu"
          ],
          [
           "Richmond"
          ],
          [
           "Rimouski"
          ],
          [
           "Riviere-du-Loup-Temiscouata"
          ],
          [
           "Robert-Baldwin"
          ],
          [
           "Roberval"
          ],
          [
           "Rosemont"
          ],
          [
           "Rousseau"
          ],
          [
           "Rouyn-Noranda-Temiscamingue"
          ],
          [
           "Saint-Francois"
          ],
          [
           "Saint-Henri-Sainte-Anne"
          ],
          [
           "Saint-Hyacinthe"
          ],
          [
           "Saint-Jean"
          ],
          [
           "Saint-Jerome"
          ],
          [
           "Saint-Laurent"
          ],
          [
           "Sainte-Marie-Saint-Jacques"
          ],
          [
           "Sainte-Rose"
          ],
          [
           "Sanguinet"
          ],
          [
           "Sherbrooke"
          ],
          [
           "Soulanges"
          ],
          [
           "Taillon"
          ],
          [
           "Taschereau"
          ],
          [
           "Terrebonne"
          ],
          [
           "Trois-Rivieres"
          ],
          [
           "Ungava"
          ],
          [
           "Vachon"
          ],
          [
           "Vanier-Les Rivieres"
          ],
          [
           "Vaudreuil"
          ],
          [
           "Vercheres"
          ],
          [
           "Verdun"
          ],
          [
           "Viau"
          ],
          [
           "Vimont"
          ],
          [
           "Westmount-Saint-Louis"
          ]
         ],
         "hovertemplate": "Pourcentage d'Immigrants=%{x}<br>Taux de participation=%{y}<br>Circonscription=%{customdata[0]}<extra></extra>",
         "legendgroup": "",
         "marker": {
          "color": "#636efa",
          "symbol": "circle"
         },
         "mode": "markers",
         "name": "",
         "orientation": "v",
         "showlegend": false,
         "type": "scatter",
         "x": [
          2,
          0.9,
          51.2,
          35.9,
          4.2,
          2.5,
          1.5,
          1.5,
          3.1,
          1.8,
          2.2,
          5.2,
          12,
          1.1,
          4.7,
          39.8,
          23,
          4.4,
          8.1,
          2.5,
          12.5,
          8,
          2.2,
          17.7,
          4.1,
          2,
          45.1,
          3,
          1.2,
          46.4,
          10.7,
          3.1,
          0.8,
          1.7,
          30.5,
          1.9,
          6.1,
          18.3,
          5.3,
          10.6,
          18,
          22.9,
          3.6,
          3.4,
          0.7,
          25.5,
          10.7,
          15.2,
          47,
          3.4,
          3.5,
          1.1,
          7.7,
          4,
          40.8,
          15.1,
          34.9,
          2.5,
          0.7,
          23.5,
          31.9,
          32.9,
          1.8,
          7.9,
          4.5,
          1.6,
          6.7,
          35.3,
          21.1,
          24.6,
          1.8,
          9.3,
          0.8,
          28.5,
          2,
          22.3,
          26.1,
          7,
          36.8,
          9.8,
          5,
          35.7,
          1.7,
          34.8,
          5,
          4.4,
          16.2,
          13.6,
          1.6,
          4.4,
          1.1,
          12.1,
          2.4,
          3.3,
          2.2,
          1.2,
          41.2,
          0.9,
          24.2,
          2.9,
          1.9,
          6.8,
          26,
          6.1,
          4.7,
          5.8,
          48.4,
          25.9,
          26.3,
          10.9,
          11.7,
          7.9,
          20.1,
          10.2,
          12,
          6,
          1.2,
          21.2,
          8.2,
          20.4,
          5.2,
          24.6,
          44.2,
          24.1,
          33.2
         ],
         "xaxis": "x",
         "y": [
          62.57,
          63.7,
          53.45,
          63.85,
          64.17,
          74.1,
          77.03,
          75.93,
          66.33,
          73.86,
          67.85,
          64.77,
          72.12,
          62.76,
          74.94,
          53.46,
          67.99,
          63.45,
          73.73,
          70.98,
          58.78,
          74.6,
          70.2,
          61.98,
          75.68,
          68.73,
          54.52,
          78.91,
          68.46,
          47.49,
          69.48,
          69.6,
          65.05,
          53.21,
          62.55,
          60.96,
          58.79,
          69.57,
          68.14,
          68.51,
          62.56,
          57.94,
          64.27,
          70.23,
          75.74,
          63.17,
          67.34,
          73.86,
          55.01,
          67.64,
          69.76,
          68.46,
          70.75,
          73.7,
          59.9,
          72.5,
          62.33,
          65.15,
          67.18,
          64.04,
          61.62,
          61.48,
          64.04,
          67.59,
          73.73,
          73.86,
          81.09,
          54.71,
          61.64,
          58.32,
          70.57,
          71.16,
          64.93,
          68.36,
          70.39,
          63.62,
          66.98,
          68.98,
          53.7,
          78.55,
          73.94,
          58.76,
          72.52,
          55.76,
          71.19,
          59.44,
          66.33,
          53.5,
          73.29,
          69.37,
          59.93,
          73.24,
          67.81,
          72.1,
          71.6,
          68.89,
          55.8,
          60.78,
          68.22,
          61.49,
          64.91,
          69.45,
          57.82,
          70.47,
          69.73,
          65.17,
          50.96,
          56.23,
          67.56,
          69.81,
          70.82,
          67.37,
          67.66,
          72.28,
          71.19,
          68.72,
          30.21,
          68.37,
          73.54,
          65.19,
          75.28,
          64.52,
          54.03,
          69.97,
          44.99
         ],
         "yaxis": "y"
        }
       ],
       "layout": {
        "legend": {
         "tracegroupgap": 0
        },
        "margin": {
         "t": 60
        },
        "template": {
         "data": {
          "bar": [
           {
            "error_x": {
             "color": "#2a3f5f"
            },
            "error_y": {
             "color": "#2a3f5f"
            },
            "marker": {
             "line": {
              "color": "#E5ECF6",
              "width": 0.5
             },
             "pattern": {
              "fillmode": "overlay",
              "size": 10,
              "solidity": 0.2
             }
            },
            "type": "bar"
           }
          ],
          "barpolar": [
           {
            "marker": {
             "line": {
              "color": "#E5ECF6",
              "width": 0.5
             },
             "pattern": {
              "fillmode": "overlay",
              "size": 10,
              "solidity": 0.2
             }
            },
            "type": "barpolar"
           }
          ],
          "carpet": [
           {
            "aaxis": {
             "endlinecolor": "#2a3f5f",
             "gridcolor": "white",
             "linecolor": "white",
             "minorgridcolor": "white",
             "startlinecolor": "#2a3f5f"
            },
            "baxis": {
             "endlinecolor": "#2a3f5f",
             "gridcolor": "white",
             "linecolor": "white",
             "minorgridcolor": "white",
             "startlinecolor": "#2a3f5f"
            },
            "type": "carpet"
           }
          ],
          "choropleth": [
           {
            "colorbar": {
             "outlinewidth": 0,
             "ticks": ""
            },
            "type": "choropleth"
           }
          ],
          "contour": [
           {
            "colorbar": {
             "outlinewidth": 0,
             "ticks": ""
            },
            "colorscale": [
             [
              0,
              "#0d0887"
             ],
             [
              0.1111111111111111,
              "#46039f"
             ],
             [
              0.2222222222222222,
              "#7201a8"
             ],
             [
              0.3333333333333333,
              "#9c179e"
             ],
             [
              0.4444444444444444,
              "#bd3786"
             ],
             [
              0.5555555555555556,
              "#d8576b"
             ],
             [
              0.6666666666666666,
              "#ed7953"
             ],
             [
              0.7777777777777778,
              "#fb9f3a"
             ],
             [
              0.8888888888888888,
              "#fdca26"
             ],
             [
              1,
              "#f0f921"
             ]
            ],
            "type": "contour"
           }
          ],
          "contourcarpet": [
           {
            "colorbar": {
             "outlinewidth": 0,
             "ticks": ""
            },
            "type": "contourcarpet"
           }
          ],
          "heatmap": [
           {
            "colorbar": {
             "outlinewidth": 0,
             "ticks": ""
            },
            "colorscale": [
             [
              0,
              "#0d0887"
             ],
             [
              0.1111111111111111,
              "#46039f"
             ],
             [
              0.2222222222222222,
              "#7201a8"
             ],
             [
              0.3333333333333333,
              "#9c179e"
             ],
             [
              0.4444444444444444,
              "#bd3786"
             ],
             [
              0.5555555555555556,
              "#d8576b"
             ],
             [
              0.6666666666666666,
              "#ed7953"
             ],
             [
              0.7777777777777778,
              "#fb9f3a"
             ],
             [
              0.8888888888888888,
              "#fdca26"
             ],
             [
              1,
              "#f0f921"
             ]
            ],
            "type": "heatmap"
           }
          ],
          "heatmapgl": [
           {
            "colorbar": {
             "outlinewidth": 0,
             "ticks": ""
            },
            "colorscale": [
             [
              0,
              "#0d0887"
             ],
             [
              0.1111111111111111,
              "#46039f"
             ],
             [
              0.2222222222222222,
              "#7201a8"
             ],
             [
              0.3333333333333333,
              "#9c179e"
             ],
             [
              0.4444444444444444,
              "#bd3786"
             ],
             [
              0.5555555555555556,
              "#d8576b"
             ],
             [
              0.6666666666666666,
              "#ed7953"
             ],
             [
              0.7777777777777778,
              "#fb9f3a"
             ],
             [
              0.8888888888888888,
              "#fdca26"
             ],
             [
              1,
              "#f0f921"
             ]
            ],
            "type": "heatmapgl"
           }
          ],
          "histogram": [
           {
            "marker": {
             "pattern": {
              "fillmode": "overlay",
              "size": 10,
              "solidity": 0.2
             }
            },
            "type": "histogram"
           }
          ],
          "histogram2d": [
           {
            "colorbar": {
             "outlinewidth": 0,
             "ticks": ""
            },
            "colorscale": [
             [
              0,
              "#0d0887"
             ],
             [
              0.1111111111111111,
              "#46039f"
             ],
             [
              0.2222222222222222,
              "#7201a8"
             ],
             [
              0.3333333333333333,
              "#9c179e"
             ],
             [
              0.4444444444444444,
              "#bd3786"
             ],
             [
              0.5555555555555556,
              "#d8576b"
             ],
             [
              0.6666666666666666,
              "#ed7953"
             ],
             [
              0.7777777777777778,
              "#fb9f3a"
             ],
             [
              0.8888888888888888,
              "#fdca26"
             ],
             [
              1,
              "#f0f921"
             ]
            ],
            "type": "histogram2d"
           }
          ],
          "histogram2dcontour": [
           {
            "colorbar": {
             "outlinewidth": 0,
             "ticks": ""
            },
            "colorscale": [
             [
              0,
              "#0d0887"
             ],
             [
              0.1111111111111111,
              "#46039f"
             ],
             [
              0.2222222222222222,
              "#7201a8"
             ],
             [
              0.3333333333333333,
              "#9c179e"
             ],
             [
              0.4444444444444444,
              "#bd3786"
             ],
             [
              0.5555555555555556,
              "#d8576b"
             ],
             [
              0.6666666666666666,
              "#ed7953"
             ],
             [
              0.7777777777777778,
              "#fb9f3a"
             ],
             [
              0.8888888888888888,
              "#fdca26"
             ],
             [
              1,
              "#f0f921"
             ]
            ],
            "type": "histogram2dcontour"
           }
          ],
          "mesh3d": [
           {
            "colorbar": {
             "outlinewidth": 0,
             "ticks": ""
            },
            "type": "mesh3d"
           }
          ],
          "parcoords": [
           {
            "line": {
             "colorbar": {
              "outlinewidth": 0,
              "ticks": ""
             }
            },
            "type": "parcoords"
           }
          ],
          "pie": [
           {
            "automargin": true,
            "type": "pie"
           }
          ],
          "scatter": [
           {
            "fillpattern": {
             "fillmode": "overlay",
             "size": 10,
             "solidity": 0.2
            },
            "type": "scatter"
           }
          ],
          "scatter3d": [
           {
            "line": {
             "colorbar": {
              "outlinewidth": 0,
              "ticks": ""
             }
            },
            "marker": {
             "colorbar": {
              "outlinewidth": 0,
              "ticks": ""
             }
            },
            "type": "scatter3d"
           }
          ],
          "scattercarpet": [
           {
            "marker": {
             "colorbar": {
              "outlinewidth": 0,
              "ticks": ""
             }
            },
            "type": "scattercarpet"
           }
          ],
          "scattergeo": [
           {
            "marker": {
             "colorbar": {
              "outlinewidth": 0,
              "ticks": ""
             }
            },
            "type": "scattergeo"
           }
          ],
          "scattergl": [
           {
            "marker": {
             "colorbar": {
              "outlinewidth": 0,
              "ticks": ""
             }
            },
            "type": "scattergl"
           }
          ],
          "scattermapbox": [
           {
            "marker": {
             "colorbar": {
              "outlinewidth": 0,
              "ticks": ""
             }
            },
            "type": "scattermapbox"
           }
          ],
          "scatterpolar": [
           {
            "marker": {
             "colorbar": {
              "outlinewidth": 0,
              "ticks": ""
             }
            },
            "type": "scatterpolar"
           }
          ],
          "scatterpolargl": [
           {
            "marker": {
             "colorbar": {
              "outlinewidth": 0,
              "ticks": ""
             }
            },
            "type": "scatterpolargl"
           }
          ],
          "scatterternary": [
           {
            "marker": {
             "colorbar": {
              "outlinewidth": 0,
              "ticks": ""
             }
            },
            "type": "scatterternary"
           }
          ],
          "surface": [
           {
            "colorbar": {
             "outlinewidth": 0,
             "ticks": ""
            },
            "colorscale": [
             [
              0,
              "#0d0887"
             ],
             [
              0.1111111111111111,
              "#46039f"
             ],
             [
              0.2222222222222222,
              "#7201a8"
             ],
             [
              0.3333333333333333,
              "#9c179e"
             ],
             [
              0.4444444444444444,
              "#bd3786"
             ],
             [
              0.5555555555555556,
              "#d8576b"
             ],
             [
              0.6666666666666666,
              "#ed7953"
             ],
             [
              0.7777777777777778,
              "#fb9f3a"
             ],
             [
              0.8888888888888888,
              "#fdca26"
             ],
             [
              1,
              "#f0f921"
             ]
            ],
            "type": "surface"
           }
          ],
          "table": [
           {
            "cells": {
             "fill": {
              "color": "#EBF0F8"
             },
             "line": {
              "color": "white"
             }
            },
            "header": {
             "fill": {
              "color": "#C8D4E3"
             },
             "line": {
              "color": "white"
             }
            },
            "type": "table"
           }
          ]
         },
         "layout": {
          "annotationdefaults": {
           "arrowcolor": "#2a3f5f",
           "arrowhead": 0,
           "arrowwidth": 1
          },
          "autotypenumbers": "strict",
          "coloraxis": {
           "colorbar": {
            "outlinewidth": 0,
            "ticks": ""
           }
          },
          "colorscale": {
           "diverging": [
            [
             0,
             "#8e0152"
            ],
            [
             0.1,
             "#c51b7d"
            ],
            [
             0.2,
             "#de77ae"
            ],
            [
             0.3,
             "#f1b6da"
            ],
            [
             0.4,
             "#fde0ef"
            ],
            [
             0.5,
             "#f7f7f7"
            ],
            [
             0.6,
             "#e6f5d0"
            ],
            [
             0.7,
             "#b8e186"
            ],
            [
             0.8,
             "#7fbc41"
            ],
            [
             0.9,
             "#4d9221"
            ],
            [
             1,
             "#276419"
            ]
           ],
           "sequential": [
            [
             0,
             "#0d0887"
            ],
            [
             0.1111111111111111,
             "#46039f"
            ],
            [
             0.2222222222222222,
             "#7201a8"
            ],
            [
             0.3333333333333333,
             "#9c179e"
            ],
            [
             0.4444444444444444,
             "#bd3786"
            ],
            [
             0.5555555555555556,
             "#d8576b"
            ],
            [
             0.6666666666666666,
             "#ed7953"
            ],
            [
             0.7777777777777778,
             "#fb9f3a"
            ],
            [
             0.8888888888888888,
             "#fdca26"
            ],
            [
             1,
             "#f0f921"
            ]
           ],
           "sequentialminus": [
            [
             0,
             "#0d0887"
            ],
            [
             0.1111111111111111,
             "#46039f"
            ],
            [
             0.2222222222222222,
             "#7201a8"
            ],
            [
             0.3333333333333333,
             "#9c179e"
            ],
            [
             0.4444444444444444,
             "#bd3786"
            ],
            [
             0.5555555555555556,
             "#d8576b"
            ],
            [
             0.6666666666666666,
             "#ed7953"
            ],
            [
             0.7777777777777778,
             "#fb9f3a"
            ],
            [
             0.8888888888888888,
             "#fdca26"
            ],
            [
             1,
             "#f0f921"
            ]
           ]
          },
          "colorway": [
           "#636efa",
           "#EF553B",
           "#00cc96",
           "#ab63fa",
           "#FFA15A",
           "#19d3f3",
           "#FF6692",
           "#B6E880",
           "#FF97FF",
           "#FECB52"
          ],
          "font": {
           "color": "#2a3f5f"
          },
          "geo": {
           "bgcolor": "white",
           "lakecolor": "white",
           "landcolor": "#E5ECF6",
           "showlakes": true,
           "showland": true,
           "subunitcolor": "white"
          },
          "hoverlabel": {
           "align": "left"
          },
          "hovermode": "closest",
          "mapbox": {
           "style": "light"
          },
          "paper_bgcolor": "white",
          "plot_bgcolor": "#E5ECF6",
          "polar": {
           "angularaxis": {
            "gridcolor": "white",
            "linecolor": "white",
            "ticks": ""
           },
           "bgcolor": "#E5ECF6",
           "radialaxis": {
            "gridcolor": "white",
            "linecolor": "white",
            "ticks": ""
           }
          },
          "scene": {
           "xaxis": {
            "backgroundcolor": "#E5ECF6",
            "gridcolor": "white",
            "gridwidth": 2,
            "linecolor": "white",
            "showbackground": true,
            "ticks": "",
            "zerolinecolor": "white"
           },
           "yaxis": {
            "backgroundcolor": "#E5ECF6",
            "gridcolor": "white",
            "gridwidth": 2,
            "linecolor": "white",
            "showbackground": true,
            "ticks": "",
            "zerolinecolor": "white"
           },
           "zaxis": {
            "backgroundcolor": "#E5ECF6",
            "gridcolor": "white",
            "gridwidth": 2,
            "linecolor": "white",
            "showbackground": true,
            "ticks": "",
            "zerolinecolor": "white"
           }
          },
          "shapedefaults": {
           "line": {
            "color": "#2a3f5f"
           }
          },
          "ternary": {
           "aaxis": {
            "gridcolor": "white",
            "linecolor": "white",
            "ticks": ""
           },
           "baxis": {
            "gridcolor": "white",
            "linecolor": "white",
            "ticks": ""
           },
           "bgcolor": "#E5ECF6",
           "caxis": {
            "gridcolor": "white",
            "linecolor": "white",
            "ticks": ""
           }
          },
          "title": {
           "x": 0.05
          },
          "xaxis": {
           "automargin": true,
           "gridcolor": "white",
           "linecolor": "white",
           "ticks": "",
           "title": {
            "standoff": 15
           },
           "zerolinecolor": "white",
           "zerolinewidth": 2
          },
          "yaxis": {
           "automargin": true,
           "gridcolor": "white",
           "linecolor": "white",
           "ticks": "",
           "title": {
            "standoff": 15
           },
           "zerolinecolor": "white",
           "zerolinewidth": 2
          }
         }
        },
        "title": {
         "text": "Taux de participation en fonction du taux d'immigration",
         "x": 0.5
        },
        "xaxis": {
         "anchor": "y",
         "domain": [
          0,
          1
         ],
         "title": {
          "text": "Pourcentage d'Immigrants"
         }
        },
        "yaxis": {
         "anchor": "x",
         "domain": [
          0,
          1
         ],
         "title": {
          "text": "Taux de participation"
         }
        }
       }
      }
     },
     "metadata": {},
     "output_type": "display_data"
    }
   ],
   "source": [
    "import plotly.express as px\n",
    " \n",
    "from preprocess import get_demographics_data, get_elections_data, get_participation_per_district\n",
    " \n",
    "%load_ext autoreload\n",
    "%autoreload 2\n",
    "\n",
    "df_demographics = get_demographics_data()\n",
    "columns_of_interests = ['Immigrants']\n",
    "immigration_rate = df_demographics[['Circonscription', 'Immigrants']]\n",
    "\n",
    "df_election = get_elections_data()\n",
    "\n",
    "df_election = get_participation_per_district(df_election)\n",
    "\n",
    "df_election.head()\n",
    "\n",
    "df_election.rename(columns={'nomCirconscription': 'Circonscription'}, inplace=True)\n",
    "\n",
    "df_election = df_election.merge(right=immigration_rate, how='inner', on='Circonscription')\n",
    "\n",
    "fig = px.scatter(df_election, x=\"Immigrants\", y=\"tauxParticipation\", hover_data=['Circonscription'],\n",
    "                labels={\"Immigrants\": \"Pourcentage d'Immigrants\", \"tauxParticipation\": \"Taux de participation\"},)\n",
    "\n",
    "fig.update_layout(title=\"Taux de participation en fonction du taux d'immigration\", title_x=0.5)\n",
    "\n",
    "fig.show()"
   ]
  },
  {
   "cell_type": "markdown",
   "metadata": {},
   "source": [
    "### QS for poorer district ?"
   ]
  },
  {
   "cell_type": "code",
   "execution_count": 9,
   "metadata": {},
   "outputs": [
    {
     "name": "stdout",
     "output_type": "stream",
     "text": [
      "The autoreload extension is already loaded. To reload it, use:\n",
      "  %reload_ext autoreload\n"
     ]
    },
    {
     "data": {
      "application/vnd.jupyter.widget-view+json": {
       "model_id": "a7fafda4d92c4870a26f059d0106ddea",
       "version_major": 2,
       "version_minor": 0
      },
      "text/plain": [
       "RadioButtons(description='Parties :', options=('Q.S.', 'P.L.Q./Q.L.P.', 'C.A.Q.-E.F.L.', 'P.Q.'), value='Q.S.'…"
      ]
     },
     "metadata": {},
     "output_type": "display_data"
    },
    {
     "data": {
      "application/vnd.jupyter.widget-view+json": {
       "model_id": "eb367cb8cea2423b8b83d02f710cac9e",
       "version_major": 2,
       "version_minor": 0
      },
      "text/plain": [
       "Output()"
      ]
     },
     "metadata": {},
     "output_type": "display_data"
    }
   ],
   "source": [
    "import plotly.express as px\n",
    "import ipywidgets as widgets\n",
    "from IPython.display import display, clear_output\n",
    "from preprocess import get_demographics_data, get_elections_data, group_elections_data_as_party\n",
    "\n",
    "%load_ext autoreload\n",
    "%autoreload 2\n",
    "\n",
    "df_demographics = get_demographics_data()\n",
    "immigration_rate = df_demographics[['Circonscription', \"Revenu median des menages $\"]]\n",
    "df_election = get_elections_data()\n",
    "\n",
    "# Liste des partis disponibles\n",
    "parties = ['Q.S.', 'P.L.Q./Q.L.P.', 'C.A.Q.-E.F.L.', 'P.Q.']  # Ajoute d'autres partis si nécessaire\n",
    "\n",
    "# Création des boutons radio\n",
    "party_selector = widgets.RadioButtons(options=parties, description='Parties :', value='Q.S.')\n",
    "\n",
    "# Zone d'affichage du graphique\n",
    "output = widgets.Output()\n",
    "\n",
    "def update_plot(change):\n",
    "    with output:\n",
    "        clear_output(wait=True)\n",
    "        df_election_filtered = group_elections_data_as_party(df_election, None, party_selector.value)\n",
    "        df_election_filtered.rename(columns={'nomCirconscription': 'Circonscription'}, inplace=True)\n",
    "        df_election_filtered = df_election_filtered.merge(right=immigration_rate, how='inner', on='Circonscription')\n",
    "        df_election_filtered = df_election_filtered.sort_values(\"Revenu median des menages $\")\n",
    "        \n",
    "        fig = px.scatter(df_election_filtered, x=\"Revenu median des menages $\", y=\"tauxVote\", hover_data=['Circonscription'],\n",
    "                         labels={\"Revenu median des menages $\": \"Revenu médian des ménages $\", \n",
    "                                 \"tauxVote\": f\"Taux de vote pour {party_selector.value}\"})\n",
    "        fig.update_layout(title=f\"Taux de vote pour {party_selector.value} en fonction du revenu médian des ménages\", title_x=0.5)\n",
    "        fig.show()\n",
    "\n",
    "party_selector.observe(update_plot, names='value')\n",
    "\n",
    "display(party_selector, output)\n",
    "update_plot(None)  # Affiche le plot initial\n"
   ]
  },
  {
   "cell_type": "markdown",
   "metadata": {},
   "source": [
    "### test"
   ]
  },
  {
   "cell_type": "code",
   "execution_count": 7,
   "metadata": {},
   "outputs": [
    {
     "name": "stderr",
     "output_type": "stream",
     "text": [
      "c:\\Users\\sidne\\Documents\\Vie_courante\\Ecole\\Universite\\Hiver2025\\Visualisation\\INF8808-H25-projet\\src\\preprocess.py:146: FutureWarning:\n",
      "\n",
      "The provided callable <built-in function max> is currently using SeriesGroupBy.max. In a future version of pandas, the provided callable will be used directly. To keep current behavior pass the string \"max\" instead.\n",
      "\n"
     ]
    },
    {
     "data": {
      "text/html": [
       "<div>\n",
       "<style scoped>\n",
       "    .dataframe tbody tr th:only-of-type {\n",
       "        vertical-align: middle;\n",
       "    }\n",
       "\n",
       "    .dataframe tbody tr th {\n",
       "        vertical-align: top;\n",
       "    }\n",
       "\n",
       "    .dataframe thead th {\n",
       "        text-align: right;\n",
       "    }\n",
       "</style>\n",
       "<table border=\"1\" class=\"dataframe\">\n",
       "  <thead>\n",
       "    <tr style=\"text-align: right;\">\n",
       "      <th></th>\n",
       "      <th>nomPartiPolitique</th>\n",
       "      <th>nomCirconscription</th>\n",
       "    </tr>\n",
       "  </thead>\n",
       "  <tbody>\n",
       "    <tr>\n",
       "      <th>0</th>\n",
       "      <td>Coalition avenir Québec</td>\n",
       "      <td>[Abitibi-Est, Papineau, Orford, Nicolet-Becanc...</td>\n",
       "    </tr>\n",
       "    <tr>\n",
       "      <th>1</th>\n",
       "      <td>Parti libéral du Québec</td>\n",
       "      <td>[Bourassa-Sauve, Acadie, Vaudreuil, Viau, Sain...</td>\n",
       "    </tr>\n",
       "    <tr>\n",
       "      <th>2</th>\n",
       "      <td>Parti québécois</td>\n",
       "      <td>[Iles-de-la-Madeleine, Camille-Laurin, Matane-...</td>\n",
       "    </tr>\n",
       "    <tr>\n",
       "      <th>3</th>\n",
       "      <td>Québec solidaire</td>\n",
       "      <td>[Taschereau, Hochelaga-Maisonneuve, Laurier-Do...</td>\n",
       "    </tr>\n",
       "  </tbody>\n",
       "</table>\n",
       "</div>"
      ],
      "text/plain": [
       "         nomPartiPolitique                                 nomCirconscription\n",
       "0  Coalition avenir Québec  [Abitibi-Est, Papineau, Orford, Nicolet-Becanc...\n",
       "1  Parti libéral du Québec  [Bourassa-Sauve, Acadie, Vaudreuil, Viau, Sain...\n",
       "2          Parti québécois  [Iles-de-la-Madeleine, Camille-Laurin, Matane-...\n",
       "3         Québec solidaire  [Taschereau, Hochelaga-Maisonneuve, Laurier-Do..."
      ]
     },
     "execution_count": 7,
     "metadata": {},
     "output_type": "execute_result"
    }
   ],
   "source": [
    "from preprocess import get_lists_of_circonscription_according_to_winning_party\n",
    "df = get_lists_of_circonscription_according_to_winning_party()\n",
    "df.head(100)"
   ]
  }
 ],
 "metadata": {
  "kernelspec": {
   "display_name": "tp1",
   "language": "python",
   "name": "python3"
  },
  "language_info": {
   "codemirror_mode": {
    "name": "ipython",
    "version": 3
   },
   "file_extension": ".py",
   "mimetype": "text/x-python",
   "name": "python",
   "nbconvert_exporter": "python",
   "pygments_lexer": "ipython3",
   "version": "3.11.9"
  }
 },
 "nbformat": 4,
 "nbformat_minor": 2
}
