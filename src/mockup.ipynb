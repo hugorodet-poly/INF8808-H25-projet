{
 "cells": [
  {
   "cell_type": "markdown",
   "metadata": {},
   "source": [
    "# Visualisations\n"
   ]
  },
  {
   "cell_type": "markdown",
   "metadata": {},
   "source": [
    "## Liste des variables\n",
    "\n",
    "Liste des variables démographiques disponibles (par arrondissement, pas par circonscription électorale)."
   ]
  },
  {
   "cell_type": "code",
   "execution_count": null,
   "metadata": {},
   "outputs": [],
   "source": [
    "from preprocess import *\n",
    "\n",
    "df = get_demographics_data()\n",
    "print(*enumerate(df.columns), sep='\\n')"
   ]
  },
  {
   "cell_type": "markdown",
   "metadata": {},
   "source": [
    "Liste des variables pour le dataset d'immigration par quartier"
   ]
  },
  {
   "cell_type": "code",
   "execution_count": null,
   "metadata": {},
   "outputs": [],
   "source": [
    "from preprocess import *\n",
    "\n",
    "df = get_immigration_data()\n",
    "print(*enumerate(df.columns), sep='\\n')"
   ]
  },
  {
   "cell_type": "markdown",
   "metadata": {},
   "source": [
    "Liste des variables pour le dataset de votes."
   ]
  },
  {
   "cell_type": "code",
   "execution_count": null,
   "metadata": {},
   "outputs": [],
   "source": [
    "from preprocess import *\n",
    "\n",
    "df = get_elections_data()\n",
    "print(*enumerate(df.columns), sep='\\n')"
   ]
  },
  {
   "cell_type": "markdown",
   "metadata": {},
   "source": [
    "## Cartes\n",
    "\n",
    "Population totale"
   ]
  },
  {
   "cell_type": "code",
   "execution_count": null,
   "metadata": {},
   "outputs": [],
   "source": [
    "from maps import *\n",
    "from preprocess import *\n",
    "\n",
    "df = get_demographics_data()\n",
    "map_data = get_map_data()\n",
    "\n",
    "fig = get_map(map_data, df[\"Immigrants\"], zoom='montreal')\n",
    "fig.show()"
   ]
  },
  {
   "cell_type": "markdown",
   "metadata": {},
   "source": [
    "Nombre de votes par circo, au total ou pour un parti spécifiquement."
   ]
  },
  {
   "cell_type": "code",
   "execution_count": null,
   "metadata": {},
   "outputs": [],
   "source": [
    "from maps import *\n",
    "from preprocess import *\n",
    "\n",
    "party = 'P.L.Q./Q.L.P.'\n",
    "#party = 'Q.S.'\n",
    "\n",
    "df = get_elections_data()\n",
    "df = vote_summary_by_circo(df)\n",
    "#df = vote_summary_by_circo(df[df['abreviationPartiPolitique']==party])\n",
    "map_data = get_map_data()\n",
    "\n",
    "fig = get_map(map_data, df['nbVoteTotal'], zoom='quebec')\n",
    "fig.show()"
   ]
  },
  {
   "cell_type": "markdown",
   "metadata": {},
   "source": [
    "Carte du monde"
   ]
  },
  {
   "cell_type": "code",
   "execution_count": null,
   "metadata": {},
   "outputs": [],
   "source": [
    "from preprocess import *\n",
    "from maps import *\n",
    "\n",
    "countries_map_data = get_countries_map_data()\n",
    "fig = get_map(countries_map_data, [10]*len(countries_map_data['features']))\n",
    "fig.show()\n"
   ]
  },
  {
   "cell_type": "markdown",
   "metadata": {},
   "source": [
    "## Autres"
   ]
  },
  {
   "cell_type": "markdown",
   "metadata": {},
   "source": [
    "### Correlation between immigration and vote for a given party (e.g. PLQ)"
   ]
  },
  {
   "cell_type": "code",
   "execution_count": null,
   "metadata": {},
   "outputs": [],
   "source": [
    "from preprocess import *\n",
    "import plotly.express as px\n",
    "import plotly.graph_objects as go\n",
    "\n",
    "df_elections = get_elections_data()\n",
    "df_elections = vote_summary_by_circo(df_elections[df_elections['abreviationPartiPolitique']=='P.L.Q./Q.L.P.'])\n",
    "df_demographics = get_demographics_data()\n",
    "\n",
    "assert df_elections['nomCirconscription'].equals(df_demographics['Circonscription'])\n",
    "\n",
    "df = pd.DataFrame(\n",
    "    data=np.array([\n",
    "        df_demographics['Immigrants'].str.replace(',', '.').str.replace('%', '').astype(float),\n",
    "        df_elections['tauxVote']]).T,\n",
    "    columns=['Immigrants', 'tauxVote'])\n",
    "\n",
    "fig = px.scatter(df, x='Immigrants', y='tauxVote')\n",
    "fig.show()"
   ]
  },
  {
   "cell_type": "markdown",
   "metadata": {},
   "source": [
    "### Barplots pour quelques variables d'immigration"
   ]
  },
  {
   "cell_type": "code",
   "execution_count": null,
   "metadata": {},
   "outputs": [],
   "source": [
    "import plotly.express as px\n",
    "import plotly.colors as colors\n",
    "import plotly.graph_objects as go\n",
    "from plotly.subplots import make_subplots\n",
    "import pandas as pd\n",
    "\n",
    "to_plot=[\n",
    "    #'Population totale',\n",
    "    'Immigrante',\n",
    "    'Réfugiée',\n",
    "    'Non permamente, Population résidente non permanente',\n",
    "    'Continent Asie',\n",
    "    'Continent Europe',\n",
    "    'Continent Afrique',\n",
    "    'Continent Amériques',\n",
    "    'Continent Oceanie et autres lieux de naissance',\n",
    "    'Parlant anglais à la maison',\n",
    "    'Parlant français à la maison',\n",
    "]\n",
    "\n",
    "df = pd.read_csv('../assets/data/arrondissements.csv')\n",
    "df = df.drop([0, 1]).reset_index(drop=True)\n",
    "\n",
    "fig = make_subplots(rows=len(to_plot), cols=2, shared_xaxes=True, vertical_spacing=0.02, horizontal_spacing=0.1)\n",
    "for i, col_name in enumerate(to_plot):\n",
    "    fig.add_trace(go.Bar(\n",
    "        x=df['Arrondissement'], \n",
    "        y=df[col_name], \n",
    "        name=col_name, \n",
    "        legendgroup=col_name,\n",
    "        showlegend=True,\n",
    "        marker_color=colors.qualitative.Plotly[i%len(colors.qualitative.Plotly)]), row=i+1, col=1)\n",
    "    fig.add_trace(go.Bar(\n",
    "        x=df['Arrondissement'], \n",
    "        y=df[col_name]/df['Population totale'], \n",
    "        legendgroup=col_name,\n",
    "        showlegend=False,\n",
    "        marker_color=colors.qualitative.Plotly[i%len(colors.qualitative.Plotly)]), row=i+1, col=2)\n",
    "fig.update_layout(\n",
    "    legend=dict(\n",
    "        orientation='h',\n",
    "        yanchor='bottom',\n",
    "        y=1.02,\n",
    "        xanchor='right',\n",
    "        x=1),\n",
    "    width=1000,\n",
    "    height=800)\n",
    "fig.show()"
   ]
  },
  {
   "cell_type": "markdown",
   "metadata": {},
   "source": [
    "### Pie chart des continents"
   ]
  },
  {
   "cell_type": "code",
   "execution_count": null,
   "metadata": {},
   "outputs": [],
   "source": [
    "import plotly.express as px\n",
    "import plotly.colors as colors\n",
    "import plotly.graph_objects as go\n",
    "from plotly.subplots import make_subplots\n",
    "import pandas as pd\n",
    "\n",
    "to_plot=[\n",
    "    #'Population totale',\n",
    "    'Continent Asie',\n",
    "    'Continent Europe',\n",
    "    'Continent Afrique',\n",
    "    'Continent Amériques',\n",
    "    'Continent Oceanie et autres lieux de naissance',\n",
    "    #'Parlant anglais à la maison',\n",
    "    #'Parlant français à la maison',\n",
    "]\n",
    "\n",
    "df = pd.read_csv('../assets/data/arrondissements.csv')\n",
    "\n",
    "fig = go.Figure(go.Pie(\n",
    "    labels=to_plot,\n",
    "    values=df.loc[0, to_plot], \n",
    "    name='Population totale'))\n",
    "\n",
    "cols = [k for k in range(134, 193) if not df.columns[k].startswith('Continent')]\n",
    "\n",
    "fig.show()\n",
    "fig = go.Figure(go.Bar(\n",
    "    x=df.columns[cols],\n",
    "    y=df.iloc[0, cols],))\n",
    "fig.update_layout(width=800)\n",
    "fig.show()"
   ]
  },
  {
   "cell_type": "markdown",
   "metadata": {},
   "source": [
    "### Continents and countries sunburst chart"
   ]
  },
  {
   "cell_type": "code",
   "execution_count": null,
   "metadata": {},
   "outputs": [],
   "source": [
    "import plotly.express as px\n",
    "import plotly.colors as colors\n",
    "import plotly.graph_objects as go\n",
    "from plotly.subplots import make_subplots\n",
    "import pandas as pd\n",
    "\n",
    "to_plot=[\n",
    "    #'Population totale',\n",
    "    'Continent Asie',\n",
    "    'Continent Europe',\n",
    "    'Continent Afrique',\n",
    "    'Continent Amériques',\n",
    "    'Continent Oceanie et autres lieux de naissance',\n",
    "    #'Parlant anglais à la maison',\n",
    "    #'Parlant français à la maison',\n",
    "]\n",
    "\n",
    "df = pd.read_csv('../assets/data/arrondissements.csv')\n",
    "\n",
    "idx_continents = [k for k in range(134, 193) if df.columns[k].startswith('Continent')]\n",
    "idx_countries = [k for k in range(134, 193) if not df.columns[k].startswith('Continent')]\n",
    "parents_countries = ['Continent Amériques' for i in range(135, 146)]\\\n",
    "    + ['Continent Europe' for i in range(147, 163)]\\\n",
    "    + ['Continent Afrique' for i in range(164, 174)]\\\n",
    "    + ['Continent Asie' for i in range(175, 192)]\n",
    "\n",
    "idx_americas = [k for k in range(135, 146)]\n",
    "idx_europe = [k for k in range(147, 163)]\n",
    "idx_africa = [k for k in range(164, 174)]\n",
    "idx_asia = [k for k in range(175, 192)]\n",
    "idx_oceania = [192]\n",
    "\n",
    "\n",
    "print(df.columns[idx_continents])\n",
    "print(len(idx_continents), len(idx_countries), len(parents_countries))\n",
    "print(df.iloc[0, idx_continents])\n",
    "sums = [sum(df.iloc[0, idx_americas]), sum(df.iloc[0, idx_europe]), sum(df.iloc[0, idx_africa]), sum(df.iloc[0, idx_asia]), sum(df.iloc[0, idx_oceania])]\n",
    "print(sums)\n",
    "\n",
    "labels = df.columns[idx_continents].to_list()\\\n",
    "        + df.columns[idx_americas].to_list()\\\n",
    "        + df.columns[idx_europe].to_list()\\\n",
    "        + df.columns[idx_africa].to_list()\\\n",
    "        + df.columns[idx_asia].to_list()\\\n",
    "        + df.columns[idx_oceania].to_list()\n",
    "\n",
    "parents = ['']*len(idx_continents)\\\n",
    "        + [df.columns[idx_continents[0]]]*len(idx_americas)\\\n",
    "        + [df.columns[idx_continents[1]]]*len(idx_africa)\\\n",
    "        + [df.columns[idx_continents[2]]]*len(idx_europe)\\\n",
    "        + [df.columns[idx_continents[3]]]*len(idx_asia)\\\n",
    "        #+ [df.columns[idx_continents[4]]]*len(idx_oceania)\n",
    "\n",
    "values = [0]*len(idx_continents) + df.iloc[0, idx_americas+idx_europe+idx_africa+idx_asia+idx_oceania].values.tolist()\n",
    "\n",
    "fig = go.Figure(go.Sunburst(\n",
    "    ids=labels,\n",
    "    labels=labels,\n",
    "    parents=parents,\n",
    "    values=values,\n",
    "))\n",
    "fig.update_layout(width=800, height=800)\n",
    "fig.show()"
   ]
  }
 ],
 "metadata": {
  "kernelspec": {
   "display_name": "INF8808_py311",
   "language": "python",
   "name": "python3"
  },
  "language_info": {
   "codemirror_mode": {
    "name": "ipython",
    "version": 3
   },
   "file_extension": ".py",
   "mimetype": "text/x-python",
   "name": "python",
   "nbconvert_exporter": "python",
   "pygments_lexer": "ipython3",
   "version": "3.11.11"
  }
 },
 "nbformat": 4,
 "nbformat_minor": 2
}
