{
 "cells": [
  {
   "cell_type": "markdown",
   "metadata": {},
   "source": [
    "# Quelques viz pour le plan & mockup\n",
    "\n",
    "## Liste des variables"
   ]
  },
  {
   "cell_type": "code",
   "execution_count": null,
   "metadata": {},
   "outputs": [],
   "source": [
    "import pandas as pd\n",
    "\n",
    "df = pd.read_csv('../assets/data/arrondissements.csv')\n",
    "print(*enumerate(df.columns), sep='\\n')"
   ]
  },
  {
   "cell_type": "markdown",
   "metadata": {},
   "source": [
    "## Barplots pour quelques variables d'immigration"
   ]
  },
  {
   "cell_type": "code",
   "execution_count": null,
   "metadata": {},
   "outputs": [],
   "source": [
    "import plotly.express as px\n",
    "import plotly.colors as colors\n",
    "import plotly.graph_objects as go\n",
    "from plotly.subplots import make_subplots\n",
    "import pandas as pd\n",
    "\n",
    "to_plot=[\n",
    "    #'Population totale',\n",
    "    'Immigrante',\n",
    "    'Réfugiée',\n",
    "    'Non permamente, Population résidente non permanente',\n",
    "    'Continent Asie',\n",
    "    'Continent Europe',\n",
    "    'Continent Afrique',\n",
    "    'Continent Amériques',\n",
    "    'Continent Oceanie et autres lieux de naissance',\n",
    "    'Parlant anglais à la maison',\n",
    "    'Parlant français à la maison',\n",
    "]\n",
    "\n",
    "df = pd.read_csv('../assets/data/arrondissements.csv')\n",
    "df = df.drop([0, 1]).reset_index(drop=True)\n",
    "\n",
    "fig = make_subplots(rows=len(to_plot), cols=2, shared_xaxes=True, vertical_spacing=0.02, horizontal_spacing=0.1)\n",
    "for i, col_name in enumerate(to_plot):\n",
    "    fig.add_trace(go.Bar(\n",
    "        x=df['Arrondissement'], \n",
    "        y=df[col_name], \n",
    "        name=col_name, \n",
    "        legendgroup=col_name,\n",
    "        showlegend=True,\n",
    "        marker_color=colors.qualitative.Plotly[i%len(colors.qualitative.Plotly)]), row=i+1, col=1)\n",
    "    fig.add_trace(go.Bar(\n",
    "        x=df['Arrondissement'], \n",
    "        y=df[col_name]/df['Population totale'], \n",
    "        legendgroup=col_name,\n",
    "        showlegend=False,\n",
    "        marker_color=colors.qualitative.Plotly[i%len(colors.qualitative.Plotly)]), row=i+1, col=2)\n",
    "fig.update_layout(\n",
    "    legend=dict(\n",
    "        orientation='h',\n",
    "        yanchor='bottom',\n",
    "        y=1.02,\n",
    "        xanchor='right',\n",
    "        x=1),\n",
    "    width=1000,\n",
    "    height=800)\n",
    "fig.show()"
   ]
  },
  {
   "cell_type": "markdown",
   "metadata": {},
   "source": [
    "## Pie chart des continents"
   ]
  },
  {
   "cell_type": "code",
   "execution_count": null,
   "metadata": {},
   "outputs": [],
   "source": [
    "import plotly.express as px\n",
    "import plotly.colors as colors\n",
    "import plotly.graph_objects as go\n",
    "from plotly.subplots import make_subplots\n",
    "import pandas as pd\n",
    "\n",
    "to_plot=[\n",
    "    #'Population totale',\n",
    "    'Continent Asie',\n",
    "    'Continent Europe',\n",
    "    'Continent Afrique',\n",
    "    'Continent Amériques',\n",
    "    'Continent Oceanie et autres lieux de naissance',\n",
    "    #'Parlant anglais à la maison',\n",
    "    #'Parlant français à la maison',\n",
    "]\n",
    "\n",
    "df = pd.read_csv('../assets/data/arrondissements.csv')\n",
    "\n",
    "fig = go.Figure(go.Pie(\n",
    "    labels=to_plot,\n",
    "    values=df.loc[0, to_plot], \n",
    "    name='Population totale'))\n",
    "\n",
    "cols = [k for k in range(134, 193) if not df.columns[k].startswith('Continent')]\n",
    "\n",
    "fig.show()\n",
    "fig = go.Figure(go.Bar(\n",
    "    x=df.columns[cols],\n",
    "    y=df.iloc[0, cols],))\n",
    "fig.update_layout(width=800)\n",
    "fig.show()"
   ]
  },
  {
   "cell_type": "markdown",
   "metadata": {},
   "source": [
    "## Continents and countries sunburst chart"
   ]
  },
  {
   "cell_type": "code",
   "execution_count": 2,
   "metadata": {},
   "outputs": [
    {
     "name": "stdout",
     "output_type": "stream",
     "text": [
      "Index(['Continent Amériques', 'Continent Europe', 'Continent Afrique',\n",
      "       'Continent Asie', 'Continent Oceanie et autres lieux de naissance'],\n",
      "      dtype='object')\n",
      "5 54 54\n",
      "Continent Amériques                               137950\n",
      "Continent Europe                                  158795\n",
      "Continent Afrique                                 152205\n",
      "Continent Asie                                    202715\n",
      "Continent Oceanie et autres lieux de naissance      1055\n",
      "Name: 0, dtype: object\n",
      "[137955, 158805, 152210, 202705, 1055]\n"
     ]
    },
    {
     "data": {
      "application/vnd.plotly.v1+json": {
       "config": {
        "plotlyServerURL": "https://plot.ly"
       },
       "data": [
        {
         "ids": [
          "Continent Amériques",
          "Continent Europe",
          "Continent Afrique",
          "Continent Asie",
          "Continent Oceanie et autres lieux de naissance",
          "Bresil",
          "Colombie",
          "El Salvador",
          "Guyana",
          "Haiti",
          "Jamaique",
          "Mexique",
          "Pérou",
          "Trinité-et-Tobago",
          "États-Unis",
          "Autres lieux de naissance en Amériques",
          "Bosnie-Herzégovine",
          "Croatie",
          "France",
          "Allemagne",
          "Grèce",
          "Hongrie",
          "Italie",
          "Pays Bas",
          "Pologne",
          "Portugal",
          "Roumanie",
          "Russie",
          "Serbie",
          "Ukraine",
          "Royaume-Uni",
          "Autres lieux de naissance en Europe",
          "Algérie",
          "Congo RDC",
          "Égypte",
          "Érythrée",
          "Éthiopie",
          "Maroc",
          "Nigéria",
          "Somalie",
          "Afrique du Sud",
          "Autres lieux de naissance en Afrique",
          "Afghanistan",
          "Iran",
          "Iraq",
          "Liban",
          "Syrie",
          "Turquie",
          "Chine",
          "Hong Kong",
          "Corée Sud",
          "Taiwan",
          "Philippines",
          "Viet Nam",
          "Bangladesh",
          "Inde",
          "Pakistan",
          "Sri Lanka",
          "Autres lieux de naissance en Asie",
          "Continent Oceanie et autres lieux de naissance"
         ],
         "labels": [
          "Continent Amériques",
          "Continent Europe",
          "Continent Afrique",
          "Continent Asie",
          "Continent Oceanie et autres lieux de naissance",
          "Bresil",
          "Colombie",
          "El Salvador",
          "Guyana",
          "Haiti",
          "Jamaique",
          "Mexique",
          "Pérou",
          "Trinité-et-Tobago",
          "États-Unis",
          "Autres lieux de naissance en Amériques",
          "Bosnie-Herzégovine",
          "Croatie",
          "France",
          "Allemagne",
          "Grèce",
          "Hongrie",
          "Italie",
          "Pays Bas",
          "Pologne",
          "Portugal",
          "Roumanie",
          "Russie",
          "Serbie",
          "Ukraine",
          "Royaume-Uni",
          "Autres lieux de naissance en Europe",
          "Algérie",
          "Congo RDC",
          "Égypte",
          "Érythrée",
          "Éthiopie",
          "Maroc",
          "Nigéria",
          "Somalie",
          "Afrique du Sud",
          "Autres lieux de naissance en Afrique",
          "Afghanistan",
          "Iran",
          "Iraq",
          "Liban",
          "Syrie",
          "Turquie",
          "Chine",
          "Hong Kong",
          "Corée Sud",
          "Taiwan",
          "Philippines",
          "Viet Nam",
          "Bangladesh",
          "Inde",
          "Pakistan",
          "Sri Lanka",
          "Autres lieux de naissance en Asie",
          "Continent Oceanie et autres lieux de naissance"
         ],
         "parents": [
          "",
          "",
          "",
          "",
          "",
          "Continent Amériques",
          "Continent Amériques",
          "Continent Amériques",
          "Continent Amériques",
          "Continent Amériques",
          "Continent Amériques",
          "Continent Amériques",
          "Continent Amériques",
          "Continent Amériques",
          "Continent Amériques",
          "Continent Amériques",
          "Continent Europe",
          "Continent Europe",
          "Continent Europe",
          "Continent Europe",
          "Continent Europe",
          "Continent Europe",
          "Continent Europe",
          "Continent Europe",
          "Continent Europe",
          "Continent Europe",
          "Continent Afrique",
          "Continent Afrique",
          "Continent Afrique",
          "Continent Afrique",
          "Continent Afrique",
          "Continent Afrique",
          "Continent Afrique",
          "Continent Afrique",
          "Continent Afrique",
          "Continent Afrique",
          "Continent Afrique",
          "Continent Afrique",
          "Continent Afrique",
          "Continent Afrique",
          "Continent Afrique",
          "Continent Afrique",
          "Continent Asie",
          "Continent Asie",
          "Continent Asie",
          "Continent Asie",
          "Continent Asie",
          "Continent Asie",
          "Continent Asie",
          "Continent Asie",
          "Continent Asie",
          "Continent Asie",
          "Continent Asie",
          "Continent Asie",
          "Continent Asie",
          "Continent Asie",
          "Continent Asie",
          "Continent Asie",
          "Continent Asie"
         ],
         "type": "sunburst",
         "values": [
          0,
          0,
          0,
          0,
          0,
          4275,
          8885,
          6600,
          1680,
          48570,
          3280,
          8935,
          7165,
          2640,
          12520,
          33405,
          855,
          915,
          42245,
          3715,
          8650,
          1990,
          32490,
          700,
          6035,
          8140,
          11970,
          7050,
          845,
          5385,
          6615,
          21205,
          44925,
          6190,
          12245,
          500,
          750,
          37215,
          1435,
          405,
          585,
          47960,
          1250,
          13990,
          2140,
          20215,
          13495,
          4490,
          32815,
          2925,
          3395,
          1600,
          24690,
          17575,
          7255,
          17345,
          6560,
          7850,
          25115,
          1055
         ]
        }
       ],
       "layout": {
        "height": 800,
        "template": {
         "data": {
          "bar": [
           {
            "error_x": {
             "color": "#2a3f5f"
            },
            "error_y": {
             "color": "#2a3f5f"
            },
            "marker": {
             "line": {
              "color": "#E5ECF6",
              "width": 0.5
             },
             "pattern": {
              "fillmode": "overlay",
              "size": 10,
              "solidity": 0.2
             }
            },
            "type": "bar"
           }
          ],
          "barpolar": [
           {
            "marker": {
             "line": {
              "color": "#E5ECF6",
              "width": 0.5
             },
             "pattern": {
              "fillmode": "overlay",
              "size": 10,
              "solidity": 0.2
             }
            },
            "type": "barpolar"
           }
          ],
          "carpet": [
           {
            "aaxis": {
             "endlinecolor": "#2a3f5f",
             "gridcolor": "white",
             "linecolor": "white",
             "minorgridcolor": "white",
             "startlinecolor": "#2a3f5f"
            },
            "baxis": {
             "endlinecolor": "#2a3f5f",
             "gridcolor": "white",
             "linecolor": "white",
             "minorgridcolor": "white",
             "startlinecolor": "#2a3f5f"
            },
            "type": "carpet"
           }
          ],
          "choropleth": [
           {
            "colorbar": {
             "outlinewidth": 0,
             "ticks": ""
            },
            "type": "choropleth"
           }
          ],
          "contour": [
           {
            "colorbar": {
             "outlinewidth": 0,
             "ticks": ""
            },
            "colorscale": [
             [
              0,
              "#0d0887"
             ],
             [
              0.1111111111111111,
              "#46039f"
             ],
             [
              0.2222222222222222,
              "#7201a8"
             ],
             [
              0.3333333333333333,
              "#9c179e"
             ],
             [
              0.4444444444444444,
              "#bd3786"
             ],
             [
              0.5555555555555556,
              "#d8576b"
             ],
             [
              0.6666666666666666,
              "#ed7953"
             ],
             [
              0.7777777777777778,
              "#fb9f3a"
             ],
             [
              0.8888888888888888,
              "#fdca26"
             ],
             [
              1,
              "#f0f921"
             ]
            ],
            "type": "contour"
           }
          ],
          "contourcarpet": [
           {
            "colorbar": {
             "outlinewidth": 0,
             "ticks": ""
            },
            "type": "contourcarpet"
           }
          ],
          "heatmap": [
           {
            "colorbar": {
             "outlinewidth": 0,
             "ticks": ""
            },
            "colorscale": [
             [
              0,
              "#0d0887"
             ],
             [
              0.1111111111111111,
              "#46039f"
             ],
             [
              0.2222222222222222,
              "#7201a8"
             ],
             [
              0.3333333333333333,
              "#9c179e"
             ],
             [
              0.4444444444444444,
              "#bd3786"
             ],
             [
              0.5555555555555556,
              "#d8576b"
             ],
             [
              0.6666666666666666,
              "#ed7953"
             ],
             [
              0.7777777777777778,
              "#fb9f3a"
             ],
             [
              0.8888888888888888,
              "#fdca26"
             ],
             [
              1,
              "#f0f921"
             ]
            ],
            "type": "heatmap"
           }
          ],
          "histogram": [
           {
            "marker": {
             "pattern": {
              "fillmode": "overlay",
              "size": 10,
              "solidity": 0.2
             }
            },
            "type": "histogram"
           }
          ],
          "histogram2d": [
           {
            "colorbar": {
             "outlinewidth": 0,
             "ticks": ""
            },
            "colorscale": [
             [
              0,
              "#0d0887"
             ],
             [
              0.1111111111111111,
              "#46039f"
             ],
             [
              0.2222222222222222,
              "#7201a8"
             ],
             [
              0.3333333333333333,
              "#9c179e"
             ],
             [
              0.4444444444444444,
              "#bd3786"
             ],
             [
              0.5555555555555556,
              "#d8576b"
             ],
             [
              0.6666666666666666,
              "#ed7953"
             ],
             [
              0.7777777777777778,
              "#fb9f3a"
             ],
             [
              0.8888888888888888,
              "#fdca26"
             ],
             [
              1,
              "#f0f921"
             ]
            ],
            "type": "histogram2d"
           }
          ],
          "histogram2dcontour": [
           {
            "colorbar": {
             "outlinewidth": 0,
             "ticks": ""
            },
            "colorscale": [
             [
              0,
              "#0d0887"
             ],
             [
              0.1111111111111111,
              "#46039f"
             ],
             [
              0.2222222222222222,
              "#7201a8"
             ],
             [
              0.3333333333333333,
              "#9c179e"
             ],
             [
              0.4444444444444444,
              "#bd3786"
             ],
             [
              0.5555555555555556,
              "#d8576b"
             ],
             [
              0.6666666666666666,
              "#ed7953"
             ],
             [
              0.7777777777777778,
              "#fb9f3a"
             ],
             [
              0.8888888888888888,
              "#fdca26"
             ],
             [
              1,
              "#f0f921"
             ]
            ],
            "type": "histogram2dcontour"
           }
          ],
          "mesh3d": [
           {
            "colorbar": {
             "outlinewidth": 0,
             "ticks": ""
            },
            "type": "mesh3d"
           }
          ],
          "parcoords": [
           {
            "line": {
             "colorbar": {
              "outlinewidth": 0,
              "ticks": ""
             }
            },
            "type": "parcoords"
           }
          ],
          "pie": [
           {
            "automargin": true,
            "type": "pie"
           }
          ],
          "scatter": [
           {
            "fillpattern": {
             "fillmode": "overlay",
             "size": 10,
             "solidity": 0.2
            },
            "type": "scatter"
           }
          ],
          "scatter3d": [
           {
            "line": {
             "colorbar": {
              "outlinewidth": 0,
              "ticks": ""
             }
            },
            "marker": {
             "colorbar": {
              "outlinewidth": 0,
              "ticks": ""
             }
            },
            "type": "scatter3d"
           }
          ],
          "scattercarpet": [
           {
            "marker": {
             "colorbar": {
              "outlinewidth": 0,
              "ticks": ""
             }
            },
            "type": "scattercarpet"
           }
          ],
          "scattergeo": [
           {
            "marker": {
             "colorbar": {
              "outlinewidth": 0,
              "ticks": ""
             }
            },
            "type": "scattergeo"
           }
          ],
          "scattergl": [
           {
            "marker": {
             "colorbar": {
              "outlinewidth": 0,
              "ticks": ""
             }
            },
            "type": "scattergl"
           }
          ],
          "scattermap": [
           {
            "marker": {
             "colorbar": {
              "outlinewidth": 0,
              "ticks": ""
             }
            },
            "type": "scattermap"
           }
          ],
          "scattermapbox": [
           {
            "marker": {
             "colorbar": {
              "outlinewidth": 0,
              "ticks": ""
             }
            },
            "type": "scattermapbox"
           }
          ],
          "scatterpolar": [
           {
            "marker": {
             "colorbar": {
              "outlinewidth": 0,
              "ticks": ""
             }
            },
            "type": "scatterpolar"
           }
          ],
          "scatterpolargl": [
           {
            "marker": {
             "colorbar": {
              "outlinewidth": 0,
              "ticks": ""
             }
            },
            "type": "scatterpolargl"
           }
          ],
          "scatterternary": [
           {
            "marker": {
             "colorbar": {
              "outlinewidth": 0,
              "ticks": ""
             }
            },
            "type": "scatterternary"
           }
          ],
          "surface": [
           {
            "colorbar": {
             "outlinewidth": 0,
             "ticks": ""
            },
            "colorscale": [
             [
              0,
              "#0d0887"
             ],
             [
              0.1111111111111111,
              "#46039f"
             ],
             [
              0.2222222222222222,
              "#7201a8"
             ],
             [
              0.3333333333333333,
              "#9c179e"
             ],
             [
              0.4444444444444444,
              "#bd3786"
             ],
             [
              0.5555555555555556,
              "#d8576b"
             ],
             [
              0.6666666666666666,
              "#ed7953"
             ],
             [
              0.7777777777777778,
              "#fb9f3a"
             ],
             [
              0.8888888888888888,
              "#fdca26"
             ],
             [
              1,
              "#f0f921"
             ]
            ],
            "type": "surface"
           }
          ],
          "table": [
           {
            "cells": {
             "fill": {
              "color": "#EBF0F8"
             },
             "line": {
              "color": "white"
             }
            },
            "header": {
             "fill": {
              "color": "#C8D4E3"
             },
             "line": {
              "color": "white"
             }
            },
            "type": "table"
           }
          ]
         },
         "layout": {
          "annotationdefaults": {
           "arrowcolor": "#2a3f5f",
           "arrowhead": 0,
           "arrowwidth": 1
          },
          "autotypenumbers": "strict",
          "coloraxis": {
           "colorbar": {
            "outlinewidth": 0,
            "ticks": ""
           }
          },
          "colorscale": {
           "diverging": [
            [
             0,
             "#8e0152"
            ],
            [
             0.1,
             "#c51b7d"
            ],
            [
             0.2,
             "#de77ae"
            ],
            [
             0.3,
             "#f1b6da"
            ],
            [
             0.4,
             "#fde0ef"
            ],
            [
             0.5,
             "#f7f7f7"
            ],
            [
             0.6,
             "#e6f5d0"
            ],
            [
             0.7,
             "#b8e186"
            ],
            [
             0.8,
             "#7fbc41"
            ],
            [
             0.9,
             "#4d9221"
            ],
            [
             1,
             "#276419"
            ]
           ],
           "sequential": [
            [
             0,
             "#0d0887"
            ],
            [
             0.1111111111111111,
             "#46039f"
            ],
            [
             0.2222222222222222,
             "#7201a8"
            ],
            [
             0.3333333333333333,
             "#9c179e"
            ],
            [
             0.4444444444444444,
             "#bd3786"
            ],
            [
             0.5555555555555556,
             "#d8576b"
            ],
            [
             0.6666666666666666,
             "#ed7953"
            ],
            [
             0.7777777777777778,
             "#fb9f3a"
            ],
            [
             0.8888888888888888,
             "#fdca26"
            ],
            [
             1,
             "#f0f921"
            ]
           ],
           "sequentialminus": [
            [
             0,
             "#0d0887"
            ],
            [
             0.1111111111111111,
             "#46039f"
            ],
            [
             0.2222222222222222,
             "#7201a8"
            ],
            [
             0.3333333333333333,
             "#9c179e"
            ],
            [
             0.4444444444444444,
             "#bd3786"
            ],
            [
             0.5555555555555556,
             "#d8576b"
            ],
            [
             0.6666666666666666,
             "#ed7953"
            ],
            [
             0.7777777777777778,
             "#fb9f3a"
            ],
            [
             0.8888888888888888,
             "#fdca26"
            ],
            [
             1,
             "#f0f921"
            ]
           ]
          },
          "colorway": [
           "#636efa",
           "#EF553B",
           "#00cc96",
           "#ab63fa",
           "#FFA15A",
           "#19d3f3",
           "#FF6692",
           "#B6E880",
           "#FF97FF",
           "#FECB52"
          ],
          "font": {
           "color": "#2a3f5f"
          },
          "geo": {
           "bgcolor": "white",
           "lakecolor": "white",
           "landcolor": "#E5ECF6",
           "showlakes": true,
           "showland": true,
           "subunitcolor": "white"
          },
          "hoverlabel": {
           "align": "left"
          },
          "hovermode": "closest",
          "mapbox": {
           "style": "light"
          },
          "paper_bgcolor": "white",
          "plot_bgcolor": "#E5ECF6",
          "polar": {
           "angularaxis": {
            "gridcolor": "white",
            "linecolor": "white",
            "ticks": ""
           },
           "bgcolor": "#E5ECF6",
           "radialaxis": {
            "gridcolor": "white",
            "linecolor": "white",
            "ticks": ""
           }
          },
          "scene": {
           "xaxis": {
            "backgroundcolor": "#E5ECF6",
            "gridcolor": "white",
            "gridwidth": 2,
            "linecolor": "white",
            "showbackground": true,
            "ticks": "",
            "zerolinecolor": "white"
           },
           "yaxis": {
            "backgroundcolor": "#E5ECF6",
            "gridcolor": "white",
            "gridwidth": 2,
            "linecolor": "white",
            "showbackground": true,
            "ticks": "",
            "zerolinecolor": "white"
           },
           "zaxis": {
            "backgroundcolor": "#E5ECF6",
            "gridcolor": "white",
            "gridwidth": 2,
            "linecolor": "white",
            "showbackground": true,
            "ticks": "",
            "zerolinecolor": "white"
           }
          },
          "shapedefaults": {
           "line": {
            "color": "#2a3f5f"
           }
          },
          "ternary": {
           "aaxis": {
            "gridcolor": "white",
            "linecolor": "white",
            "ticks": ""
           },
           "baxis": {
            "gridcolor": "white",
            "linecolor": "white",
            "ticks": ""
           },
           "bgcolor": "#E5ECF6",
           "caxis": {
            "gridcolor": "white",
            "linecolor": "white",
            "ticks": ""
           }
          },
          "title": {
           "x": 0.05
          },
          "xaxis": {
           "automargin": true,
           "gridcolor": "white",
           "linecolor": "white",
           "ticks": "",
           "title": {
            "standoff": 15
           },
           "zerolinecolor": "white",
           "zerolinewidth": 2
          },
          "yaxis": {
           "automargin": true,
           "gridcolor": "white",
           "linecolor": "white",
           "ticks": "",
           "title": {
            "standoff": 15
           },
           "zerolinecolor": "white",
           "zerolinewidth": 2
          }
         }
        },
        "width": 800
       }
      }
     },
     "metadata": {},
     "output_type": "display_data"
    }
   ],
   "source": [
    "import plotly.express as px\n",
    "import plotly.colors as colors\n",
    "import plotly.graph_objects as go\n",
    "from plotly.subplots import make_subplots\n",
    "import pandas as pd\n",
    "\n",
    "to_plot=[\n",
    "    #'Population totale',\n",
    "    'Continent Asie',\n",
    "    'Continent Europe',\n",
    "    'Continent Afrique',\n",
    "    'Continent Amériques',\n",
    "    'Continent Oceanie et autres lieux de naissance',\n",
    "    #'Parlant anglais à la maison',\n",
    "    #'Parlant français à la maison',\n",
    "]\n",
    "\n",
    "df = pd.read_csv('../assets/data/arrondissements.csv')\n",
    "\n",
    "idx_continents = [k for k in range(134, 193) if df.columns[k].startswith('Continent')]\n",
    "idx_countries = [k for k in range(134, 193) if not df.columns[k].startswith('Continent')]\n",
    "parents_countries = ['Continent Amériques' for i in range(135, 146)]\\\n",
    "    + ['Continent Europe' for i in range(147, 163)]\\\n",
    "    + ['Continent Afrique' for i in range(164, 174)]\\\n",
    "    + ['Continent Asie' for i in range(175, 192)]\n",
    "\n",
    "idx_americas = [k for k in range(135, 146)]\n",
    "idx_europe = [k for k in range(147, 163)]\n",
    "idx_africa = [k for k in range(164, 174)]\n",
    "idx_asia = [k for k in range(175, 192)]\n",
    "idx_oceania = [192]\n",
    "\n",
    "\n",
    "print(df.columns[idx_continents])\n",
    "print(len(idx_continents), len(idx_countries), len(parents_countries))\n",
    "print(df.iloc[0, idx_continents])\n",
    "sums = [sum(df.iloc[0, idx_americas]), sum(df.iloc[0, idx_europe]), sum(df.iloc[0, idx_africa]), sum(df.iloc[0, idx_asia]), sum(df.iloc[0, idx_oceania])]\n",
    "print(sums)\n",
    "\n",
    "labels = df.columns[idx_continents].to_list()\\\n",
    "        + df.columns[idx_americas].to_list()\\\n",
    "        + df.columns[idx_europe].to_list()\\\n",
    "        + df.columns[idx_africa].to_list()\\\n",
    "        + df.columns[idx_asia].to_list()\\\n",
    "        + df.columns[idx_oceania].to_list()\n",
    "\n",
    "parents = ['']*len(idx_continents)\\\n",
    "        + [df.columns[idx_continents[0]]]*len(idx_americas)\\\n",
    "        + [df.columns[idx_continents[1]]]*len(idx_africa)\\\n",
    "        + [df.columns[idx_continents[2]]]*len(idx_europe)\\\n",
    "        + [df.columns[idx_continents[3]]]*len(idx_asia)\\\n",
    "        #+ [df.columns[idx_continents[4]]]*len(idx_oceania)\n",
    "\n",
    "values = [0]*len(idx_continents) + df.iloc[0, idx_americas+idx_europe+idx_africa+idx_asia+idx_oceania].values.tolist()\n",
    "\n",
    "fig = go.Figure(go.Sunburst(\n",
    "    ids=labels,\n",
    "    labels=labels,\n",
    "    parents=parents,\n",
    "    values=values,\n",
    "))\n",
    "fig.update_layout(width=800, height=800)\n",
    "fig.show()"
   ]
  }
 ],
 "metadata": {
  "kernelspec": {
   "display_name": "INF8808_py311",
   "language": "python",
   "name": "python3"
  },
  "language_info": {
   "codemirror_mode": {
    "name": "ipython",
    "version": 3
   },
   "file_extension": ".py",
   "mimetype": "text/x-python",
   "name": "python",
   "nbconvert_exporter": "python",
   "pygments_lexer": "ipython3",
   "version": "3.11.11"
  }
 },
 "nbformat": 4,
 "nbformat_minor": 2
}
