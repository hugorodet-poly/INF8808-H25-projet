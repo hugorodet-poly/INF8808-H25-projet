{
 "cells": [
  {
   "cell_type": "markdown",
   "metadata": {},
   "source": [
    "# Carte des arrondissements\n",
    "\n",
    "Test du chrolopleth plotly avec la géographie des arrondissements de montréal"
   ]
  },
  {
   "cell_type": "code",
   "execution_count": null,
   "metadata": {},
   "outputs": [],
   "source": [
    "import plotly.graph_objects as go\n",
    "import plotly.express as px\n",
    "import json\n",
    "\n",
    "MAP_FPATH = '../assets/maps/arrondissements_montreal.geojson'\n",
    "\n",
    "with open(MAP_FPATH) as f:\n",
    "    arrond = json.load(f)\n",
    "    \n",
    "print(arrond.keys())\n",
    "print(arrond['type'])\n",
    "print(arrond['crs'])\n",
    "print(arrond['features'])\n",
    "\n",
    "id = 'no_qr'\n",
    "fig = go.Figure(\n",
    "    go.Choroplethmap(\n",
    "        geojson=arrond,\n",
    "        featureidkey='properties.'+id,\n",
    "        locations=[f['properties'][id] for f in arrond['features']],\n",
    "        z=[f['properties'][id] for f in arrond['features']],\n",
    "        hovertext=[f['properties']['nom_qr'] for f in arrond['features']],\n",
    "        colorscale=\"Viridis\",\n",
    "        marker_opacity=0.5, marker_line_width=0))\n",
    "fig.update_layout(map=dict(center=dict(lat=45.5517, lon=-73.7073), style=\"carto-positron\", zoom=8.7))\n",
    "fig.show()"
   ]
  },
  {
   "cell_type": "markdown",
   "metadata": {},
   "source": [
    "# Districts électoraux de Montréal\n",
    "Il manque tout ce qui n'est pas techniquement partie de la ville de montréal, e.g. Westmount"
   ]
  },
  {
   "cell_type": "code",
   "execution_count": null,
   "metadata": {},
   "outputs": [],
   "source": [
    "import plotly.graph_objects as go\n",
    "import json\n",
    "\n",
    "MAP_FPATH = '../assets/maps/districts_montreal.geojson'\n",
    "\n",
    "with open(MAP_FPATH) as f:\n",
    "    districts = json.load(f)\n",
    "    \n",
    "print(districts.keys())\n",
    "print(districts['type'])\n",
    "print(districts['name'])\n",
    "print(len(districts['features']))\n",
    "print(districts['features'][0]['geometry'])\n",
    "print(districts['features'][0].keys())\n",
    "print(districts['features'][0]['properties'].keys())\n",
    "\n",
    "id = 'id'\n",
    "fig = go.Figure(go.Choroplethmap(\n",
    "    geojson=districts,\n",
    "    featureidkey='properties.'+id,\n",
    "    locations=[f['properties'][id] for f in districts['features']],\n",
    "    z=[f['properties'][id] for f in districts['features']],\n",
    "    hovertext=[f['properties']['nom'] for f in districts['features']],\n",
    "    marker_opacity=0.5, marker_line_width=0))\n",
    "fig.update_layout(\n",
    "    map=dict(\n",
    "        center=dict(lat=45.5517, lon=-73.7073), zoom=8.7))\n",
    "fig.show()"
   ]
  },
  {
   "cell_type": "markdown",
   "metadata": {},
   "source": [
    "# Superposition des arrondissements et circos"
   ]
  },
  {
   "cell_type": "code",
   "execution_count": null,
   "metadata": {},
   "outputs": [],
   "source": [
    "import plotly.graph_objects as go\n",
    "import plotly.express as px\n",
    "import json\n",
    "\n",
    "ARROND_FPATH = '../assets/maps/arrondissements_montreal.geojson'\n",
    "CIRCO_FPATH = '../assets/maps/districts_montreal.geojson'\n",
    "\n",
    "\n",
    "with open(ARROND_FPATH) as f:\n",
    "    arrond = json.load(f)\n",
    "with open(CIRCO_FPATH) as f:\n",
    "    districts = json.load(f)    \n",
    "\n",
    "# En bleu les arrondissements\n",
    "id = 'no_qr'\n",
    "fig = go.Figure(\n",
    "    go.Choroplethmap(\n",
    "        geojson=arrond,\n",
    "        featureidkey='properties.'+id,\n",
    "        locations=[f['properties'][id] for f in arrond['features']],\n",
    "        z=[0]*len(arrond['features']),\n",
    "        hovertext=[f['properties']['nom_qr'] for f in arrond['features']],\n",
    "        marker_opacity=0.5, marker_line_width=5, marker_line_color='blue'))\n",
    "\n",
    "# En rouge les circonscriptions\n",
    "id = 'id'\n",
    "fig = fig.add_trace(go.Choroplethmap(\n",
    "    geojson=districts,\n",
    "    featureidkey='properties.'+id,\n",
    "    locations=[f['properties'][id] for f in districts['features']],\n",
    "    z=[1]*len(districts['features']),\n",
    "    hovertext=[f['properties']['nom'] for f in districts['features']],\n",
    "    colorscale=\"Viridis\",\n",
    "    marker_opacity=0.5, marker_line_width=5, marker_line_color='red'))\n",
    "fig.update_layout(\n",
    "    showlegend=True,\n",
    "    map=dict(\n",
    "        center=dict(lat=45.5517, lon=-73.7073), zoom=8.7))\n",
    "fig.show()"
   ]
  },
  {
   "cell_type": "markdown",
   "metadata": {},
   "source": [
    "# Test des 125 districts électoraux du Québec"
   ]
  },
  {
   "cell_type": "code",
   "execution_count": null,
   "metadata": {},
   "outputs": [],
   "source": [
    "import plotly.graph_objects as go\n",
    "import numpy as np\n",
    "import json\n",
    "\n",
    "MAP_FPATH = '../assets/maps/districts_QC.geojson'\n",
    "\n",
    "with open(MAP_FPATH) as f:\n",
    "    districts = json.load(f)\n",
    "    \n",
    "districts['features'] = districts['features'][:1000]\n",
    "for i in range(len(districts['features'])):\n",
    "    districts['features'][i]['properties']['ID'] = i\n",
    "\n",
    "print(districts.keys())\n",
    "print(districts['type'])\n",
    "print(districts['name'])\n",
    "print(districts['crs'])\n",
    "print(len(districts['features']))\n",
    "print(districts['features'][0].keys())\n",
    "for key in districts['features'][0]['properties'].keys():\n",
    "    print('|\\t', key, ':', districts['features'][0]['properties'][key])\n",
    "\n",
    "id='ID'\n",
    "fig = go.Figure(go.Choroplethmap(\n",
    "    geojson=districts,\n",
    "    featureidkey='properties.'+id,\n",
    "    locations=[f['properties'][id] for f in districts['features']],\n",
    "    z=[f['properties'][id] for f in districts['features']],\n",
    "    hovertext=[f['properties']['NM_CEP'] for f in districts['features']],\n",
    "    marker_opacity=0.5, marker_line_width=1))\n",
    "\n",
    "fig.update_geos(\n",
    "    projection=dict(\n",
    "        type=\"conic conformal\",\n",
    "        parallels=[50, 46],\n",
    "    ))\n",
    "fig.update_layout(map=dict(center=dict(lat=47, lon=-70), zoom=4))\n",
    "\n",
    "fig.show()"
   ]
  },
  {
   "cell_type": "markdown",
   "metadata": {},
   "source": [
    "## Test du datasets de langues etc\n",
    "\n",
    "Des données de langue sur l'ensemble du québec (enfin les villes principales), juste pour voir comment c'était organisé."
   ]
  },
  {
   "cell_type": "code",
   "execution_count": null,
   "metadata": {},
   "outputs": [],
   "source": [
    "import pandas as pd\n",
    "\n",
    "FPATH =  '../assets/data/langues.csv'\n",
    "df = pd.read_csv(FPATH, sep=';')"
   ]
  },
  {
   "cell_type": "code",
   "execution_count": null,
   "metadata": {},
   "outputs": [],
   "source": [
    "# polars est pas mal plus rapide\n",
    "import polars as pl\n",
    "\n",
    "FPATH =  '../assets/data/langues.csv'\n",
    "df = pl.read_csv(FPATH, separator=';')\n",
    "\n",
    "# Dropping empty columns\n",
    "df = df.drop([\"Symbole\"]+[f\"Symbole_duplicated_{i}\" for i in range(8)])\n"
   ]
  },
  {
   "cell_type": "code",
   "execution_count": null,
   "metadata": {},
   "outputs": [],
   "source": [
    "print(*df.columns, sep='\\n')"
   ]
  },
  {
   "cell_type": "code",
   "execution_count": null,
   "metadata": {},
   "outputs": [],
   "source": [
    "print(df.head())"
   ]
  },
  {
   "cell_type": "code",
   "execution_count": null,
   "metadata": {},
   "outputs": [],
   "source": [
    "print(*df['GÉO'].unique().to_list(), sep='\\n')"
   ]
  }
 ],
 "metadata": {
  "kernelspec": {
   "display_name": "INF8808_py311",
   "language": "python",
   "name": "python3"
  },
  "language_info": {
   "codemirror_mode": {
    "name": "ipython",
    "version": 3
   },
   "file_extension": ".py",
   "mimetype": "text/x-python",
   "name": "python",
   "nbconvert_exporter": "python",
   "pygments_lexer": "ipython3",
   "version": "3.11.11"
  }
 },
 "nbformat": 4,
 "nbformat_minor": 2
}
