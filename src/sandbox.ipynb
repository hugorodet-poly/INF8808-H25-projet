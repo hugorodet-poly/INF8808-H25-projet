{
 "cells": [
  {
   "cell_type": "markdown",
   "metadata": {},
   "source": [
    "# Carte des arrondissements\n",
    "\n",
    "Test du chrolopleth plotly avec la gEographie des arrondissements de montrEal"
   ]
  },
  {
   "cell_type": "code",
   "execution_count": null,
   "metadata": {},
   "outputs": [],
   "source": [
    "import plotly.graph_objects as go\n",
    "import plotly.express as px\n",
    "import json\n",
    "\n",
    "MAP_FPATH = '../assets/maps/arrondissements_montreal.geojson'\n",
    "\n",
    "with open(MAP_FPATH) as f:\n",
    "    arrond = json.load(f)\n",
    "    \n",
    "print(arrond.keys())\n",
    "print(arrond['type'])\n",
    "print(arrond['crs'])\n",
    "print(arrond['features'])\n",
    "\n",
    "id = 'no_qr'\n",
    "fig = go.Figure(\n",
    "    go.Choroplethmap(\n",
    "        geojson=arrond,\n",
    "        featureidkey='properties.'+id,\n",
    "        locations=[f['properties'][id] for f in arrond['features']],\n",
    "        z=[f['properties'][id] for f in arrond['features']],\n",
    "        hovertext=[f['properties']['nom_qr'] for f in arrond['features']],\n",
    "        colorscale=\"Viridis\",\n",
    "        marker_opacity=0.5, marker_line_width=0))\n",
    "fig.update_layout(map=dict(center=dict(lat=45.5517, lon=-73.7073), style=\"carto-positron\", zoom=8.7))\n",
    "fig.show()"
   ]
  },
  {
   "cell_type": "markdown",
   "metadata": {},
   "source": [
    "# Districts Electoraux de MontrEal\n",
    "Il manque tout ce qui n'est pas techniquement partie de la ville de montrEal, e.g. Westmount"
   ]
  },
  {
   "cell_type": "code",
   "execution_count": null,
   "metadata": {},
   "outputs": [],
   "source": [
    "import plotly.graph_objects as go\n",
    "import json\n",
    "\n",
    "MAP_FPATH = '../assets/maps/districts_montreal.geojson'\n",
    "\n",
    "with open(MAP_FPATH) as f:\n",
    "    districts = json.load(f)\n",
    "    \n",
    "print(districts.keys())\n",
    "print(districts['type'])\n",
    "print(districts['name'])\n",
    "print(len(districts['features']))\n",
    "print(districts['features'][0]['geometry'])\n",
    "print(districts['features'][0].keys())\n",
    "print(districts['features'][0]['properties'].keys())\n",
    "\n",
    "id = 'id'\n",
    "fig = go.Figure(go.Choroplethmap(\n",
    "    geojson=districts,\n",
    "    featureidkey='properties.'+id,\n",
    "    locations=[f['properties'][id] for f in districts['features']],\n",
    "    z=[f['properties'][id] for f in districts['features']],\n",
    "    hovertext=[f['properties']['nom'] for f in districts['features']],\n",
    "    marker_opacity=0.5, marker_line_width=0))\n",
    "fig.update_layout(\n",
    "    map=dict(\n",
    "        center=dict(lat=45.5517, lon=-73.7073), zoom=8.7))\n",
    "fig.show()"
   ]
  },
  {
   "cell_type": "markdown",
   "metadata": {},
   "source": [
    "# Superposition des arrondissements et circos"
   ]
  },
  {
   "cell_type": "code",
   "execution_count": null,
   "metadata": {},
   "outputs": [],
   "source": [
    "import plotly.graph_objects as go\n",
    "import plotly.express as px\n",
    "import json\n",
    "\n",
    "ARROND_FPATH = '../assets/maps/arrondissements_montreal.geojson'\n",
    "CIRCO_FPATH = '../assets/maps/districts_montreal.geojson'\n",
    "\n",
    "\n",
    "with open(ARROND_FPATH) as f:\n",
    "    arrond = json.load(f)\n",
    "with open(CIRCO_FPATH) as f:\n",
    "    districts = json.load(f)    \n",
    "\n",
    "# En bleu les arrondissements\n",
    "id = 'no_qr'\n",
    "fig = go.Figure(\n",
    "    go.Choroplethmap(\n",
    "        geojson=arrond,\n",
    "        featureidkey='properties.'+id,\n",
    "        locations=[f['properties'][id] for f in arrond['features']],\n",
    "        z=[0]*len(arrond['features']),\n",
    "        hovertext=[f['properties']['nom_qr'] for f in arrond['features']],\n",
    "        marker_opacity=0.5, marker_line_width=5, marker_line_color='blue'))\n",
    "\n",
    "# En rouge les circonscriptions\n",
    "id = 'id'\n",
    "fig = fig.add_trace(go.Choroplethmap(\n",
    "    geojson=districts,\n",
    "    featureidkey='properties.'+id,\n",
    "    locations=[f['properties'][id] for f in districts['features']],\n",
    "    z=[1]*len(districts['features']),\n",
    "    hovertext=[f['properties']['nom'] for f in districts['features']],\n",
    "    colorscale=\"Viridis\",\n",
    "    marker_opacity=0.5, marker_line_width=5, marker_line_color='red'))\n",
    "fig.update_layout(\n",
    "    showlegend=True,\n",
    "    map=dict(\n",
    "        center=dict(lat=45.5517, lon=-73.7073), zoom=8.7))\n",
    "fig.show()"
   ]
  },
  {
   "cell_type": "markdown",
   "metadata": {},
   "source": [
    "# Test des 125 districts Electoraux du QuEbec"
   ]
  },
  {
   "cell_type": "code",
   "execution_count": null,
   "metadata": {},
   "outputs": [],
   "source": [
    "import plotly.graph_objects as go\n",
    "import numpy as np\n",
    "import json\n",
    "\n",
    "MAP_FPATH = '../assets/maps/districts_QC.geojson'\n",
    "\n",
    "with open(MAP_FPATH) as f:\n",
    "    districts = json.load(f)\n",
    "    \n",
    "districts['features'] = districts['features']\n",
    "for i in range(len(districts['features'])):\n",
    "    districts['features'][i]['properties']['ID'] = i\n",
    "\n",
    "print(districts.keys())\n",
    "print(districts['type'])\n",
    "print(districts['name'])\n",
    "print(districts['crs'])\n",
    "print(len(districts['features']))\n",
    "print(districts['features'][0].keys())\n",
    "for key in districts['features'][0]['properties'].keys():\n",
    "    print('|\\t', key, ':', districts['features'][0]['properties'][key])\n",
    "\n",
    "id='ID'\n",
    "fig = go.Figure(go.Choroplethmap(\n",
    "    geojson=districts,\n",
    "    featureidkey='properties.'+id,\n",
    "    locations=[f['properties'][id] for f in districts['features']],\n",
    "    z=[f['properties'][id] for f in districts['features']],\n",
    "    hovertext=[f['properties']['NM_CEP'] for f in districts['features']],\n",
    "    marker_opacity=0.5, marker_line_width=1))\n",
    "\n",
    "fig.update_geos(\n",
    "    projection=dict(\n",
    "        type=\"conic conformal\",\n",
    "        parallels=[50, 46],\n",
    "    ))\n",
    "fig.update_layout(\n",
    "    map=dict(center=dict(lat=54, lon=-68.5), zoom=3.7),\n",
    "    width=600, height=800)\n",
    "\n",
    "fig.show()"
   ]
  },
  {
   "cell_type": "markdown",
   "metadata": {},
   "source": [
    "## Test du datasets de langues etc\n",
    "\n",
    "Des donnEes de langue sur l'ensemble du quEbec (enfin les villes principales), juste pour voir comment c'Etait organisE."
   ]
  },
  {
   "cell_type": "code",
   "execution_count": null,
   "metadata": {},
   "outputs": [],
   "source": [
    "import pandas as pd\n",
    "\n",
    "FPATH =  '../assets/data/langues.csv'\n",
    "df = pd.read_csv(FPATH, sep=';')"
   ]
  },
  {
   "cell_type": "code",
   "execution_count": null,
   "metadata": {},
   "outputs": [],
   "source": [
    "# polars est pas mal plus rapide\n",
    "import polars as pl\n",
    "\n",
    "FPATH =  '../assets/data/langues.csv'\n",
    "df = pl.read_csv(FPATH, separator=';')\n",
    "\n",
    "# Dropping empty columns\n",
    "df = df.drop([\"Symbole\"]+[f\"Symbole_duplicated_{i}\" for i in range(8)])\n"
   ]
  },
  {
   "cell_type": "code",
   "execution_count": null,
   "metadata": {},
   "outputs": [],
   "source": [
    "print(*df.columns, sep='\\n')"
   ]
  },
  {
   "cell_type": "code",
   "execution_count": null,
   "metadata": {},
   "outputs": [],
   "source": [
    "print(df.head())"
   ]
  },
  {
   "cell_type": "code",
   "execution_count": null,
   "metadata": {},
   "outputs": [],
   "source": [
    "print(*df['GEO'].unique().to_list(), sep='\\n')"
   ]
  },
  {
   "cell_type": "markdown",
   "metadata": {},
   "source": [
    "# Test du dataset de données démographiques par circo"
   ]
  },
  {
   "cell_type": "code",
   "execution_count": null,
   "metadata": {},
   "outputs": [],
   "source": [
    "import plotly.graph_objects as go\n",
    "from unidecode import unidecode\n",
    "import pandas as pd\n",
    "import json\n",
    "\n",
    "MAP_125_FPATH = '../assets/maps/districts_QC.geojson'\n",
    "DEMOGRAPHICS_FPATH = '../assets/data/donneesSocio2021.csv'\n",
    "\n",
    "# Get the map\n",
    "with open(MAP_125_FPATH) as f:\n",
    "    districts = json.load(f)\n",
    "print('Number of features :', len(districts['features']))\n",
    "\n",
    "# Clean the names\n",
    "for i in range(len(districts['features'])):\n",
    "    districts['features'][i]['properties']['NM_CEP'] = unidecode(districts['features'][i]['properties']['NM_CEP'])\n",
    "# Roughly sort. NOT RELIABLE for 1-to-1 matching\n",
    "districts['features'].sort(key=lambda x: x['properties']['NM_CEP'].lower())\n",
    " \n",
    "# Add unique IDs\n",
    "for i in range(len(districts['features'])):\n",
    "    districts['features'][i]['properties']['ID'] = i\n",
    "\n",
    "# Display the keys\n",
    "print('Property keys for the map :')\n",
    "for key in districts['features'][0]['properties'].keys():\n",
    "    print('|\\t', key, ':', type(districts['features'][0]['properties'][key]), '; example :', districts['features'][0]['properties'][key])\n",
    "\n",
    "# Get the demographics\n",
    "df = pd.read_csv(DEMOGRAPHICS_FPATH, sep=';')\n",
    "df.rename(columns={s:unidecode(s) for s in df.columns}, inplace=True)\n",
    "df.rename(columns={'Circonscription/ DSE 2021':'Circonscription'}, inplace=True)\n",
    "print('\\nDataframe columns :')\n",
    "print(*df.columns, sep='\\n')\n",
    "df.rename(columns={s: s.strip() for s in df.columns}, inplace=True)\n",
    "\n",
    "# The first row is a recap for the entire province, we drop it and clean\n",
    "df = df.drop(df[df['Circonscription']=='Province'].index).reset_index(drop=True)\n",
    "df['Circonscription'] = df['Circonscription'].map(lambda s: unidecode(s))\n",
    "df['Circonscription'] = df['Circonscription'].map(lambda s: s.strip())\n",
    "print('Number of districts :', len(df))\n",
    "\n",
    "# Sort by ID for 1-to-1 matching (faster at runtime)\n",
    "all_map_districts = [f['properties']['NM_CEP'] for f in districts['features']]\n",
    "df['ID'] = [all_map_districts.index(circo) for circo in df['Circonscription'].values]\n",
    "df = df.sort_values(by='ID').reset_index(drop=True)\n",
    "\n",
    "def get_map(demographics, variable):\n",
    "    z = demographics[variable].values\n",
    "    print(z)\n",
    "    fig = go.Figure(go.Choroplethmap(\n",
    "        geojson=districts,\n",
    "        featureidkey='properties.ID',\n",
    "        locations=[f['properties']['ID'] for f in districts['features']],\n",
    "        z=z,\n",
    "        hovertext=[f['properties']['NM_CEP'] for f in districts['features']],\n",
    "        marker_opacity=0.5, marker_line_width=2))\n",
    "    fig.update_geos(\n",
    "        projection=dict(\n",
    "            type=\"conic conformal\",\n",
    "            parallels=[50, 46]))\n",
    "    fig.update_layout(\n",
    "        map=dict(center=dict(lat=54, lon=-68.5), zoom=3.7),\n",
    "        width=600, height=800)\n",
    "    return fig\n"
   ]
  },
  {
   "cell_type": "code",
   "execution_count": null,
   "metadata": {},
   "outputs": [],
   "source": [
    "# Assert that the dataframes are correctly ordered etc\n",
    "print(len(df))\n",
    "\n",
    "# Test Double inclusion\n",
    "for i in range(125):\n",
    "    assert df.loc[i, 'Circonscription'] in all_map_districts, f'{df.loc[i, \"Circonscription\"]} not in the map'\n",
    "    assert all_map_districts[i] in df['Circonscription'].values, f'{districts[\"features\"][i][\"properties\"][\"NM_CEP\"]} not in the dataframe'\n",
    "    \n",
    "# Test ID matching\n",
    "for i in range(125):\n",
    "    id, name = districts['features'][i]['properties']['ID'], districts['features'][i]['properties']['NM_CEP']\n",
    "    assert name == df.loc[df['ID']==id, 'Circonscription'].values, f'{districts[\"features\"][i][\"properties\"][\"ID\"]} not equal to {df.loc[i,\"ID\"]}'\n",
    "    \n",
    "# Test ordering by ID\n",
    "for i in range(125):\n",
    "    assert all_map_districts[i] == df.loc[i,'Circonscription'], f'{districts[\"features\"][i][\"properties\"][\"NM_CEP\"]} not equal to {df.loc[i,\"Circonscription\"]}'"
   ]
  },
  {
   "cell_type": "code",
   "execution_count": null,
   "metadata": {},
   "outputs": [],
   "source": [
    "fig = get_map(df, \"Population totale selon les groupes d'age\")\n",
    "fig.show()"
   ]
  }
 ],
 "metadata": {
  "kernelspec": {
   "display_name": "INF8808_py311",
   "language": "python",
   "name": "python3"
  },
  "language_info": {
   "codemirror_mode": {
    "name": "ipython",
    "version": 3
   },
   "file_extension": ".py",
   "mimetype": "text/x-python",
   "name": "python",
   "nbconvert_exporter": "python",
   "pygments_lexer": "ipython3",
   "version": "3.11.11"
  }
 },
 "nbformat": 4,
 "nbformat_minor": 2
}
